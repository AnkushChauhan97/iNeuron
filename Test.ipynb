{
 "cells": [
  {
   "cell_type": "code",
   "execution_count": 19,
   "metadata": {},
   "outputs": [
    {
     "name": "stdout",
     "output_type": "stream",
     "text": [
      "    *\n",
      "   ***\n",
      "  *****\n",
      " *******\n",
      "*********\n"
     ]
    }
   ],
   "source": [
    "from re import S\n",
    "\n",
    "star=0\n",
    "starcount=1\n",
    "row=int(input())\n",
    "spacecount=row-star\n",
    "while starcount<=2*row-1:\n",
    "    space=1\n",
    "    while space<spacecount:\n",
    "        print(\" \",end=\"\")\n",
    "        space+=1\n",
    "    else:\n",
    "        star=0\n",
    "        while star<starcount:\n",
    "            print(\"*\",end=\"\")\n",
    "            star+=1\n",
    "    starcount+=2\n",
    "    spacecount-=1\n",
    "    print(\"\\r\")\n"
   ]
  },
  {
   "cell_type": "code",
   "execution_count": null,
   "metadata": {},
   "outputs": [],
   "source": []
  }
 ],
 "metadata": {
  "kernelspec": {
   "display_name": "Python 3.10.7 64-bit",
   "language": "python",
   "name": "python3"
  },
  "language_info": {
   "codemirror_mode": {
    "name": "ipython",
    "version": 3
   },
   "file_extension": ".py",
   "mimetype": "text/x-python",
   "name": "python",
   "nbconvert_exporter": "python",
   "pygments_lexer": "ipython3",
   "version": "3.10.7"
  },
  "orig_nbformat": 4,
  "vscode": {
   "interpreter": {
    "hash": "bdd191ab3bf8888fbde80324a57563ef772a70b8b291ec3348fb33c64c8ad8a3"
   }
  }
 },
 "nbformat": 4,
 "nbformat_minor": 2
}
