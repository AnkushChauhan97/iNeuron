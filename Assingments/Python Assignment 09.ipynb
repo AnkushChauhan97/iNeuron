{
 "cells": [
  {
   "cell_type": "markdown",
   "metadata": {},
   "source": [
    "**Q1.** To what does a relative path refer?\n",
    "\n",
    "**Ans.** The relative path refer to the current working directory i.e. the directory in which the current file resides."
   ]
  },
  {
   "cell_type": "markdown",
   "metadata": {},
   "source": [
    "**Q2.** What does an absolute path start with your operating system?\n",
    "\n",
    "**Ans.** An absolute path start from root directory. For example, if the file is on desktop, then the absolute path start with root directory i.e. C:\\."
   ]
  },
  {
   "cell_type": "markdown",
   "metadata": {},
   "source": [
    "**Q3.** What do the functions os.getcwd() and os.chdir() do?\n",
    "\n",
    "**Ans.** os.getcwd() will return the curreent working directory & os.chdir() is used to change directory."
   ]
  },
  {
   "cell_type": "markdown",
   "metadata": {},
   "source": [
    "**Q4.** What are the . and .. folders?\n",
    "\n",
    "**Ans.** Single dot means that the module called is in the same directory. Whereas double dot means that the module in parent dirtectory."
   ]
  },
  {
   "cell_type": "markdown",
   "metadata": {},
   "source": [
    "**Q5.** In C:\\bacon\\eggs\\spam.txt, which part is the dir name, and which part is the base name?\n",
    "\n",
    "**Ans.** The directory name of this path will be `C:\\bacon\\eggs` & the base will be `spam.txt`\n"
   ]
  },
  {
   "cell_type": "markdown",
   "metadata": {},
   "source": [
    "**Q6.** What are the three “mode” arguments that can be passed to the open() function?\n",
    "\n",
    "**Ans.** The mode methods are `r` for reading file, `w` for writing file if & also if does not exists it will create one, and `a` for append and update file."
   ]
  },
  {
   "cell_type": "markdown",
   "metadata": {},
   "source": [
    "**Q7.** What happens if an existing file is opened in write mode?\n",
    "\n",
    "**Ans.** If the already exists then it wil overwrite the file."
   ]
  },
  {
   "cell_type": "markdown",
   "metadata": {},
   "source": [
    "**Q8.** How do you tell the difference between read() and readlines()?\n",
    "\n",
    "**Ans.** The read() command will read and dispay full file text whereas readlines() will return all the lines in form of a list."
   ]
  },
  {
   "cell_type": "markdown",
   "metadata": {},
   "source": [
    "**Q9.** What data structure does a shelf value resemble?\n",
    "\n",
    "**Ans.** Shelve value uses directory like data structure."
   ]
  }
 ],
 "metadata": {
  "kernelspec": {
   "display_name": "Python 3.10.7 64-bit",
   "language": "python",
   "name": "python3"
  },
  "language_info": {
   "codemirror_mode": {
    "name": "ipython",
    "version": 3
   },
   "file_extension": ".py",
   "mimetype": "text/x-python",
   "name": "python",
   "nbconvert_exporter": "python",
   "pygments_lexer": "ipython3",
   "version": "3.10.7"
  },
  "orig_nbformat": 4,
  "vscode": {
   "interpreter": {
    "hash": "bdd191ab3bf8888fbde80324a57563ef772a70b8b291ec3348fb33c64c8ad8a3"
   }
  }
 },
 "nbformat": 4,
 "nbformat_minor": 2
}
