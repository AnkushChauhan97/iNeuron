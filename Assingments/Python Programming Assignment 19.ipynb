{
 "cells": [
  {
   "attachments": {},
   "cell_type": "markdown",
   "id": "a80b431a",
   "metadata": {},
   "source": [
    "**Q1.** Create a function that takes a string and returns a string in which each character is repeated once.\n",
    "Examples: \n",
    "`double_char(\"String\") : \"SSttrriinngg\"`  \n",
    "`double_char(\"Hello World!\") : \"HHeelllloo WWoorrlldd!!\"`  \n",
    "`doublechar(\"1234!_\") : \"11223344!!__\"`  "
   ]
  },
  {
   "cell_type": "code",
   "execution_count": null,
   "id": "7c34f85c",
   "metadata": {},
   "outputs": [],
   "source": [
    "def double_char(in_string):\n",
    "    out_string = ''\n",
    "    for ele in in_string:\n",
    "        out_string += ele*2\n",
    "    return out_string\n",
    "\n",
    "print(f': {double_char(\"String\")}')\n",
    "print(f': {double_char(\"Hello World!\")}')\n",
    "print(f': {double_char(\"1234!_\")}')"
   ]
  },
  {
   "attachments": {},
   "cell_type": "markdown",
   "id": "36c73da9",
   "metadata": {},
   "source": [
    "**Q2.** Create a function that reverses a boolean value and returns the string \"boolean expected\" if another variable type is given.\n",
    "**Examples:**  \n",
    "`reverse(True) : False`  \n",
    "`reverse(False) : True`  \n",
    "`reverse(0) : \"boolean expected\"`  \n",
    "`reverse(None) : \"boolean expected\"`  "
   ]
  },
  {
   "cell_type": "markdown",
   "id": "e380110a",
   "metadata": {},
   "source": []
  },
  {
   "cell_type": "code",
   "execution_count": null,
   "id": "9cb5a79b",
   "metadata": {},
   "outputs": [],
   "source": [
    "def reverse(in_bool):\n",
    "    if type(in_bool) == bool:\n",
    "        return not in_bool\n",
    "    else:\n",
    "        return \"Boolean Expected\"\n",
    "\n",
    "print(f'reverse(True) : {reverse(True)}')\n",
    "print(f'reverse(False) : {reverse(False)}')\n",
    "print(f'reverse(0) : {reverse(0)}')\n",
    "print(f'reverse(None) : {reverse(None)}')"
   ]
  },
  {
   "attachments": {},
   "cell_type": "markdown",
   "id": "e6161ea2",
   "metadata": {},
   "source": [
    "**Q3.** Create a function that returns the thickness (in meters) of a piece of paper after folding it n number of times. The paper starts off with a thickness of 0.5mm.\n",
    "**Examples:**  \n",
    "`num_layers(1) : \"0.001m\"\n",
    "    # Paper folded once is 1mm (equal to 0.001m)\n",
    "num_layers(4) : \"0.008m\"\n",
    "    # Paper folded 4 times is 8mm (equal to 0.008m)\n",
    "num_layers(21) : \"1048.576m\"\n",
    "    # Paper folded 21 times is 1048576mm (equal to 1048.576m)`"
   ]
  },
  {
   "cell_type": "code",
   "execution_count": null,
   "id": "3abb23af",
   "metadata": {},
   "outputs": [],
   "source": [
    "def num_layers(in_num):\n",
    "    out_num = 0.5\n",
    "    for ele in range(in_num):\n",
    "        out_num *= 2\n",
    "    print(f'Output : {out_num/1000}m')\n",
    "    \n",
    "num_layers(1)\n",
    "num_layers(4)\n",
    "num_layers(21)"
   ]
  },
  {
   "attachments": {},
   "cell_type": "markdown",
   "id": "c71bac5c",
   "metadata": {},
   "source": [
    "**Q4.** Create a function that takes a single string as argument and returns an ordered list containing the indices of all capital letters in the string.\n",
    "**Examples:**  \n",
    "`index_of_caps(\"eDaBiT\") : [1, 3, 5]`  \n",
    "`index_of_caps(\"eQuINoX\") : [1, 3, 4, 6]`  \n",
    "`index_of_caps(\"determine\") : []`  \n",
    "`index_of_caps(\"STRIKE\") : [0, 1, 2, 3, 4, 5]`  \n",
    "`index_of_caps(\"sUn\") : [1]`  "
   ]
  },
  {
   "cell_type": "code",
   "execution_count": null,
   "id": "e6ce83db",
   "metadata": {},
   "outputs": [],
   "source": [
    "def index_of_caps(in_string):\n",
    "    out_string = []\n",
    "    for ele in in_string:\n",
    "        if ele.isupper():\n",
    "            out_string.append(in_string.index(ele))\n",
    "    print(f'{in_string} : {out_string}')\n",
    "\n",
    "index_of_caps(\"eDaBiT\")\n",
    "index_of_caps(\"eQuINoX\")\n",
    "index_of_caps(\"determine\")\n",
    "index_of_caps(\"STRIKE\")\n",
    "index_of_caps(\"sUn\")"
   ]
  },
  {
   "attachments": {},
   "cell_type": "markdown",
   "id": "11770ca9",
   "metadata": {},
   "source": [
    "**Q5** Using list comprehensions, create a function that finds all even numbers from 1 to the given number.\n",
    "**Examples:**  \n",
    "`find_even_nums(8) : [2, 4, 6, 8]`  \n",
    "`find_even_nums(4) : [2, 4]`   \n",
    "`find_even_nums(2) : [2]`  "
   ]
  },
  {
   "cell_type": "code",
   "execution_count": null,
   "id": "3609695d",
   "metadata": {},
   "outputs": [],
   "source": [
    "def find_even_nums(in_num):\n",
    "    out_list = [i for i in range(1,in_num+1) if i%2 == 0]\n",
    "    print(f'Output : {out_list}')\n",
    "    \n",
    "find_even_nums(8)\n",
    "find_even_nums(4)\n",
    "find_even_nums(2)"
   ]
  }
 ],
 "metadata": {
  "kernelspec": {
   "display_name": "Python 3",
   "language": "python",
   "name": "python3"
  },
  "language_info": {
   "codemirror_mode": {
    "name": "ipython",
    "version": 3
   },
   "file_extension": ".py",
   "mimetype": "text/x-python",
   "name": "python",
   "nbconvert_exporter": "python",
   "pygments_lexer": "ipython3",
   "version": "3.11.0 (main, Oct 24 2022, 18:26:48) [MSC v.1933 64 bit (AMD64)]"
  },
  "vscode": {
   "interpreter": {
    "hash": "0ce04f76c7467da7eecc8b82ab5f2c80c83e62f7b0e3d6895d4c669363670452"
   }
  }
 },
 "nbformat": 4,
 "nbformat_minor": 5
}
