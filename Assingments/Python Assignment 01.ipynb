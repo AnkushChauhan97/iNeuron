{
 "cells": [
  {
   "cell_type": "markdown",
   "metadata": {},
   "source": [
    "**Q1.** In the below elements which of them are values or an expression? eg:- values can be\n",
    "integer or string and expressions will be mathematical operators.\n",
    "\n",
    "**Ans:** 'hello' \\n\n",
    "-87.8 \\n\n",
    "6"
   ]
  },
  {
   "cell_type": "markdown",
   "metadata": {},
   "source": [
    "**Q2.** What is the difference between string and variable?\n",
    "\n",
    "**Ans:** Strings are sequence of characters that can be any number, alphabet, or symbol & should be include in double or single quotes.\n",
    "     Veriables are symbols that are used to store data. Veriables can be a string or alpha numeric value that starts with a alphabat."
   ]
  },
  {
   "cell_type": "markdown",
   "metadata": {},
   "source": [
    "**Q3.** Describe three different data types.\n",
    "    \n",
    "**Ans:**\n",
    "1. `Int` The data type int represent integer numbers.\n",
    "2. `str` str is a data type that represent string. A string can be any number, alphabet, or symbol & should be include in double or single quotes.\n",
    "3. `list` list data type allows us to store collection of data. We can store multiple data types all at once. They are mutable i.e. we can change its values."
   ]
  },
  {
   "cell_type": "markdown",
   "metadata": {},
   "source": [
    "**Q4.** What is an expression made up of? What do all expressions do?\n",
    "\n",
    "**Ans:** An Expression is a combination of operators and operands. Operators are predefined symbols that are designated to perform computation on given operands. With the help of these operators, all expressions produce some values after computing."
   ]
  },
  {
   "cell_type": "markdown",
   "metadata": {},
   "source": [
    "**Q5.** This assignment statements, like spam = 10. What is the difference between an expression and a statement?\n",
    "\n",
    "**Ans:** Every line in the python script is a statement which ends after a new line starts. Whereas, an expression is combination of operators and operands that produces value."
   ]
  },
  {
   "cell_type": "markdown",
   "metadata": {},
   "source": [
    "**Q6.** After running the following code, what does the variable bacon contain?\n",
    "bacon = 22 \\n\n",
    "bacon + 1 \\n\n",
    "**Ans:** The value of bacon will be 23."
   ]
  },
  {
   "cell_type": "markdown",
   "metadata": {},
   "source": [
    "**Q7.** What should the values of the following two terms be?\n",
    "'spam' + 'spamspam'\n",
    "'spam' * 3\n",
    "\n",
    "**Ans:** 'spam' + 'spamspma' = spamspamspam\n",
    "     'spam' * 3 = spamspamspam"
   ]
  },
  {
   "cell_type": "markdown",
   "metadata": {},
   "source": [
    "**Q8.** Why is eggs a valid variable name while 100 is invalid?\n",
    "\n",
    "**Ans:** Variable name can only start with a character or an underscore. That is why eggs is a valid variable name and 100 is not."
   ]
  },
  {
   "cell_type": "markdown",
   "metadata": {},
   "source": [
    "**Q9.** What three functions can be used to get the integer, floating-point number, or string version of a value?\n",
    "\n",
    "**Ans:** Integers= int()\n",
    "     Floating point number= float()\n",
    "     String= str()"
   ]
  },
  {
   "cell_type": "markdown",
   "metadata": {},
   "source": [
    "**Q10.** Why does this expression cause an error? How can you fix it?\n",
    "'I have eaten ' + 99 + ' burritos.'\n",
    "\n",
    "**Ans:** This expression is showing error because 99 is an integer value and rest ofr the values are string. the '+' operator can not aconcatenate string and integers.\n",
    "     The correct expression should be: 'I have eaten ' + '99' + ' burritos.'"
   ]
  }
 ],
 "metadata": {
  "kernelspec": {
   "display_name": "Python 3.10.7 64-bit",
   "language": "python",
   "name": "python3"
  },
  "language_info": {
   "codemirror_mode": {
    "name": "ipython",
    "version": 3
   },
   "file_extension": ".py",
   "mimetype": "text/x-python",
   "name": "python",
   "nbconvert_exporter": "python",
   "pygments_lexer": "ipython3",
   "version": "3.10.7"
  },
  "orig_nbformat": 4,
  "vscode": {
   "interpreter": {
    "hash": "bdd191ab3bf8888fbde80324a57563ef772a70b8b291ec3348fb33c64c8ad8a3"
   }
  }
 },
 "nbformat": 4,
 "nbformat_minor": 2
}
