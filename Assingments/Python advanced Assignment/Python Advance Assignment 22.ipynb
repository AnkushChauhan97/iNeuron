{
 "cells": [
  {
   "attachments": {},
   "cell_type": "markdown",
   "id": "81a1c047",
   "metadata": {},
   "source": [
    "**Q1.** What are the benefits of the built-in array package, if any?"
   ]
  },
  {
   "attachments": {},
   "cell_type": "markdown",
   "id": "e54cc4ba",
   "metadata": {},
   "source": [
    "**Ans:** Arrays represent multiple data items of the same type using a single name. In arrays, the elements can be accessed randomly by using the index number. Arrays allocate memory in contiguous memory locations for all its elements. Hence there is no chance of extra memory being allocated in case of arrays. This avoids memory overflow or shortage of memory in arrays."
   ]
  },
  {
   "attachments": {},
   "cell_type": "markdown",
   "id": "72b97146",
   "metadata": {},
   "source": [
    "**Q2.** What are some of the array package's limitations ?"
   ]
  },
  {
   "attachments": {},
   "cell_type": "markdown",
   "id": "b657f463",
   "metadata": {},
   "source": [
    "**Ans:**  The number of elements to be stored in an array should be known in advance. An array is a static structure (which means the array is of fixed size). Once declared the size of the array cannot be modified. The memory which is allocated to it cannot be increased or decreased.\n",
    "\n",
    "Insertion and deletion are quite difficult in an array as the elements are stored in consecutive memory locations and the shifting operation is costly.\n",
    "\n",
    "Allocating more memory than the requirement leads to wastage of memory space and less allocation of memory also leads to a problem"
   ]
  },
  {
   "attachments": {},
   "cell_type": "markdown",
   "id": "fd6c2a9b",
   "metadata": {},
   "source": [
    "**Q3.** Describe the main differences between the array and numpy packages ?"
   ]
  },
  {
   "attachments": {},
   "cell_type": "markdown",
   "id": "f523b7cc",
   "metadata": {},
   "source": [
    "**Ans:**  The array package doesn't provide any help with numerical calculation with the items insdie it in number form while NumPy give you a wide variety of numerical operations.\n",
    "\n",
    "An array is a single dimensional entity which hold the numerical data, while numpy can have more than 1 dimension.\n",
    "\n",
    "In case of array, item can be accessed by its index position and it is easy task while in numpy item is accessed by its column and row index, which makes it slightly time taking. Same goes with appending operation.\n",
    "\n",
    "In case of array we do not form a tabular structure, while in numpy it forms a tabular structure "
   ]
  },
  {
   "attachments": {},
   "cell_type": "markdown",
   "id": "17049af0",
   "metadata": {},
   "source": [
    "**Q4.** Explain the distinctions between the empty, ones, and zeros functions ?"
   ]
  },
  {
   "attachments": {},
   "cell_type": "markdown",
   "id": "faa71225",
   "metadata": {},
   "source": [
    "**Ans:** The distinctions between the `empty`, `ones`, and `zero` functions are as follows :  \n",
    "- `Empty function:` An empty function is a function that does not contain any statement within its body. If you try to write a function definition without any statement in python ,it will return an error. To avoid this, we use pass statement. pass is a special statement in Python that does nothing. It only works as a dummy statement.  \n",
    "- `Ones:` This function returns a new array of given shape and data type, where the element’s value is 1.  \n",
    "- `Zeros:` This function returns a new array of given shape and data type, where the element’s value is 0.  "
   ]
  },
  {
   "attachments": {},
   "cell_type": "markdown",
   "id": "59182103",
   "metadata": {},
   "source": [
    "**Q5.** In the fromfunction function, which is used to construct new arrays, what is the role of the callable argument ?"
   ]
  },
  {
   "attachments": {},
   "cell_type": "markdown",
   "id": "efbfa378",
   "metadata": {},
   "source": [
    "**Ans:**  Its function is to execute the function over each coordinate and the resulting array. The function is called with N parameters, where N is the rank of shape. Each parameter represents the coordinates of the array varying along a specific axis. "
   ]
  },
  {
   "attachments": {},
   "cell_type": "markdown",
   "id": "82a330ed",
   "metadata": {},
   "source": [
    "**Q6.** What happens when a numpy array is combined with a single-value operand (a scalar, such as an int or a floating-point value) through addition, as in the expression `A + n` ?"
   ]
  },
  {
   "attachments": {},
   "cell_type": "markdown",
   "id": "d862d75b",
   "metadata": {},
   "source": [
    "**Ans:** If any scaler value such as integer is added to the numpy array then all the elements inside the array will add that value in it. "
   ]
  },
  {
   "attachments": {},
   "cell_type": "markdown",
   "id": "12e37586",
   "metadata": {},
   "source": [
    "**Q7.** Can array-to-scalar operations use combined operation-assign operators (such as += or *=)? What is the outcome ?"
   ]
  },
  {
   "attachments": {},
   "cell_type": "markdown",
   "id": "eb1e66ee",
   "metadata": {},
   "source": [
    "**Ans:** It will carry out provided operation on all elements of array. "
   ]
  },
  {
   "attachments": {},
   "cell_type": "markdown",
   "id": "f9687fd2",
   "metadata": {},
   "source": [
    "**Q8.** Does a numpy array contain fixed-length strings? What happens if you allocate a longer string to one of these arrays ?"
   ]
  },
  {
   "attachments": {},
   "cell_type": "markdown",
   "id": "06cb9fa7",
   "metadata": {},
   "source": [
    "**Ans:** : Yes, it is possible that we can include a string of fixed length in numpy array. The dtype of any numpy array containing string values is the maximum length of any string present in the array.Once set, it will only be able to store new string having length not more than the maximum length at the time of the creation. If we try to reassign some another string value having length greater than the maximum length of the existing elements, it simply discards all the values beyond the maximum length accept upto those values which are under the limit."
   ]
  },
  {
   "attachments": {},
   "cell_type": "markdown",
   "id": "d5da8bbe",
   "metadata": {},
   "source": [
    "**Q9.** What happens when you combine two numpy arrays using an operation like addition (+) or multiplication (*)? What are the conditions for combining two numpy arrays ?"
   ]
  },
  {
   "attachments": {},
   "cell_type": "markdown",
   "id": "39eeffd0",
   "metadata": {},
   "source": [
    "**Ans:** It will simply add or multiply element to element at same position. "
   ]
  },
  {
   "attachments": {},
   "cell_type": "markdown",
   "id": "d350b416",
   "metadata": {},
   "source": [
    "**Q10.** What is the best way to use a Boolean array to mask another array ?"
   ]
  },
  {
   "attachments": {},
   "cell_type": "markdown",
   "id": "52eae9fd",
   "metadata": {},
   "source": [
    "**Ans:** The best way to use a Boolean array to mask another array is by Using `masked_where` of numpy package"
   ]
  },
  {
   "attachments": {},
   "cell_type": "markdown",
   "id": "b5401443",
   "metadata": {},
   "source": [
    "**Q11.** What are three different ways to get the standard deviation of a wide collection of data using both standard Python and its packages? Sort the three of them by how quickly they execute ?"
   ]
  },
  {
   "attachments": {},
   "cell_type": "markdown",
   "id": "f20658d4",
   "metadata": {},
   "source": [
    "**Ans:** `np.std` and math package can be used individually. "
   ]
  },
  {
   "attachments": {},
   "cell_type": "markdown",
   "id": "2c49864a",
   "metadata": {},
   "source": [
    "**12.** What is the dimensionality of a Boolean mask-generated array ?"
   ]
  },
  {
   "attachments": {},
   "cell_type": "markdown",
   "id": "8a68b504",
   "metadata": {},
   "source": [
    "**Ans:**  It will have same dimensionality as input array."
   ]
  }
 ],
 "metadata": {
  "kernelspec": {
   "display_name": "Python 3",
   "language": "python",
   "name": "python3"
  },
  "language_info": {
   "codemirror_mode": {
    "name": "ipython",
    "version": 3
   },
   "file_extension": ".py",
   "mimetype": "text/x-python",
   "name": "python",
   "nbconvert_exporter": "python",
   "pygments_lexer": "ipython3",
   "version": "3.11.0 (main, Oct 24 2022, 18:26:48) [MSC v.1933 64 bit (AMD64)]"
  },
  "vscode": {
   "interpreter": {
    "hash": "0ce04f76c7467da7eecc8b82ab5f2c80c83e62f7b0e3d6895d4c669363670452"
   }
  }
 },
 "nbformat": 4,
 "nbformat_minor": 5
}
