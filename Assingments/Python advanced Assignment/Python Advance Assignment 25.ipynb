{
 "cells": [
  {
   "attachments": {},
   "cell_type": "markdown",
   "id": "bb43a46e",
   "metadata": {},
   "source": [
    "**Q1.** What is the distinction between a numpy array and a pandas data frame? Is there a way to convert between the two if there is ?"
   ]
  },
  {
   "attachments": {},
   "cell_type": "markdown",
   "id": "0ac96567",
   "metadata": {},
   "source": [
    "**Ans:** Numpy Ndarray provides a lot of convenient and optimized methods for performing several mathematical operations on vectors.\n",
    "\n",
    "Pandas Dataframe is an in-memory 2-dimensional tabular representation of data. In simpler words, it can be seen as a spreadsheet having rows and columns.\n",
    "\n",
    "Conversion : `Dataframe=pandas.DataFrame(array)`"
   ]
  },
  {
   "attachments": {},
   "cell_type": "markdown",
   "id": "24146fcb",
   "metadata": {},
   "source": [
    "**Q2.** Identify some of the plotting techniques that are used to produce a stock-market chart ?"
   ]
  },
  {
   "attachments": {},
   "cell_type": "markdown",
   "id": "e50c7868",
   "metadata": {},
   "source": [
    "**Ans:** Bar chart, Line Chart are used for plotting. "
   ]
  },
  {
   "attachments": {},
   "cell_type": "markdown",
   "id": "f0fdf95b",
   "metadata": {},
   "source": [
    "**Q3.** Why is it essential to print a legend on a stock market chart ?"
   ]
  },
  {
   "attachments": {},
   "cell_type": "markdown",
   "id": "9c8fef73",
   "metadata": {},
   "source": [
    "**Ans:** Legend will help comparison between different stocks, so will be essential on a stock market chart"
   ]
  },
  {
   "attachments": {},
   "cell_type": "markdown",
   "id": "186d0d51",
   "metadata": {},
   "source": [
    "**Q4.** What is the best way to limit the length of a pandas data frame to less than a year ?"
   ]
  },
  {
   "attachments": {},
   "cell_type": "markdown",
   "id": "b0750846",
   "metadata": {},
   "source": [
    "**Ans:** : We can use start and end parameters for that. In start we write the date from where we are starting and at the end we write the end date. SO within this span we can restric the duration.Also we can use the parameters like periods for how much times we need the duration and we can also use the frequency parameter."
   ]
  },
  {
   "attachments": {},
   "cell_type": "markdown",
   "id": "5805fa40",
   "metadata": {},
   "source": [
    "**Q5.** What is the definition of a 180-day moving average ?"
   ]
  },
  {
   "attachments": {},
   "cell_type": "markdown",
   "id": "5b6f7e40",
   "metadata": {},
   "source": [
    "**Ans:** : The 180-day moving average is represented as a line on charts and represents the average price over the past 180 days. The moving average can give traders a sense regarding whether the trend is up or down, while also identifying potential support or resistance areas."
   ]
  }
 ],
 "metadata": {
  "kernelspec": {
   "display_name": "Python 3",
   "language": "python",
   "name": "python3"
  },
  "language_info": {
   "codemirror_mode": {
    "name": "ipython",
    "version": 3
   },
   "file_extension": ".py",
   "mimetype": "text/x-python",
   "name": "python",
   "nbconvert_exporter": "python",
   "pygments_lexer": "ipython3",
   "version": "3.11.0 (main, Oct 24 2022, 18:26:48) [MSC v.1933 64 bit (AMD64)]"
  },
  "vscode": {
   "interpreter": {
    "hash": "0ce04f76c7467da7eecc8b82ab5f2c80c83e62f7b0e3d6895d4c669363670452"
   }
  }
 },
 "nbformat": 4,
 "nbformat_minor": 5
}
