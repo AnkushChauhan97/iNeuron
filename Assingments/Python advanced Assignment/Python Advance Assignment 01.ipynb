{
 "cells": [
  {
   "attachments": {},
   "cell_type": "markdown",
   "id": "942401c5",
   "metadata": {},
   "source": [
    "**Q1.** What is the purpose of Python's OOP?"
   ]
  },
  {
   "attachments": {},
   "cell_type": "markdown",
   "id": "7c576aa9",
   "metadata": {},
   "source": [
    "**Ans:** Object-oriented programming is a programming paradigm that provides a means of structuring programs so that properties and behaviors are bundled into individual objects.\n",
    "In Python, object-oriented Programming (OOPs) uses objects and classes in programming. It's aim is to implement real-world entities like inheritance, polymorphisms, encapsulation, etc. in the programming. "
   ]
  },
  {
   "attachments": {},
   "cell_type": "markdown",
   "id": "7cfcf3e9",
   "metadata": {},
   "source": [
    "**Q2.** Where does an inheritance search look for an attribute?\n",
    "**Ans:** It first searches for the attribute in its instance and then looks in the class it is generated from, to all super classes listed in its class header."
   ]
  },
  {
   "attachments": {},
   "cell_type": "markdown",
   "id": "096d7b0b",
   "metadata": {},
   "source": [
    "**Q3.** How do you distinguish between a class object and an instance object?"
   ]
  },
  {
   "attachments": {},
   "cell_type": "markdown",
   "id": "fd8cc6bc",
   "metadata": {},
   "source": [
    "**Q4.** What makes the first argument in a class’s method function special?"
   ]
  },
  {
   "attachments": {},
   "cell_type": "markdown",
   "id": "b69f6573",
   "metadata": {},
   "source": [
    "**Ans:** `self` is the first argument for instance methods. which refers to the object itself. Whatever argument name is specified at forst place it is considered as `self` & will refer to class itself."
   ]
  },
  {
   "attachments": {},
   "cell_type": "markdown",
   "id": "94de0426",
   "metadata": {},
   "source": [
    "**Q5.** What is the purpose of the __init__ method?"
   ]
  },
  {
   "attachments": {},
   "cell_type": "markdown",
   "id": "6ea33e10",
   "metadata": {},
   "source": [
    "**Ans:** `__init__` is a reseved method in python classes. It serves the role of a constructor in object oriented terminology. This method is called when an object is created from a class and it allows the class to initialize the attributes of the class."
   ]
  },
  {
   "attachments": {},
   "cell_type": "markdown",
   "id": "3e47943f",
   "metadata": {},
   "source": [
    "**Q6.** What is the process for creating a class instance?"
   ]
  },
  {
   "attachments": {},
   "cell_type": "markdown",
   "id": "bf945d64",
   "metadata": {},
   "source": [
    "**Ans:** To create a class instance, we need to call the class by its name and pass the arguments to the class, whtich its `init` method accepts.\n",
    "\n",
    "For Ex: `name = cls(\"Ankush\",\"Chauhan\")` Here `name` is an instance of class `cls` with attributes \"Ankush\" and \"Chauhan\"."
   ]
  },
  {
   "attachments": {},
   "cell_type": "markdown",
   "id": "8ddf33a9",
   "metadata": {},
   "source": [
    "**Q7.** What is the process for creating a class?\n"
   ]
  },
  {
   "attachments": {},
   "cell_type": "markdown",
   "id": "1426df08",
   "metadata": {},
   "source": [
    "**Ans:** `class` keyword is used to created a class. The syntax to create a class is `class <classname>:`"
   ]
  },
  {
   "attachments": {},
   "cell_type": "markdown",
   "id": "b58c55d6",
   "metadata": {},
   "source": [
    "**Q8.** How would you define the superclasses of a class?"
   ]
  },
  {
   "attachments": {},
   "cell_type": "markdown",
   "id": "f2cfcb42",
   "metadata": {},
   "source": [
    "**Ans** Superclass/Parent class is given as a arugment to the child class.\n",
    "For Ex: In `class Employee(Person):`, `Employee` is a child class that inherits attributes and methods from Superclass `Person`"
   ]
  },
  {
   "cell_type": "markdown",
   "id": "4028c412",
   "metadata": {},
   "source": []
  }
 ],
 "metadata": {
  "kernelspec": {
   "display_name": "Python 3",
   "language": "python",
   "name": "python3"
  },
  "language_info": {
   "codemirror_mode": {
    "name": "ipython",
    "version": 3
   },
   "file_extension": ".py",
   "mimetype": "text/x-python",
   "name": "python",
   "nbconvert_exporter": "python",
   "pygments_lexer": "ipython3",
   "version": "3.8.8"
  }
 },
 "nbformat": 4,
 "nbformat_minor": 5
}
