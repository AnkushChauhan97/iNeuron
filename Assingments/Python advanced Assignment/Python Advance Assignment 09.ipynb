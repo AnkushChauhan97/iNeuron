{
 "cells": [
  {
   "attachments": {},
   "cell_type": "markdown",
   "id": "1b9784d3",
   "metadata": {},
   "source": [
    "**Q1.** In Python 3.X, what are the names and functions of string object types?"
   ]
  },
  {
   "attachments": {},
   "cell_type": "markdown",
   "id": "4f551945",
   "metadata": {},
   "source": [
    "**Ans:** The following are the names and functions of string object types in Python 3.X\n",
    "- `<string>.index(<sub_string>) ->` Returns the lowest index of substring if substring is found in the string.\n",
    "- `<string>.rindex(<sub_string>) ->` Returns the highest index of substring if substring is found in the string.\n",
    "- `max(<string>) ->` Returns the highest Alphabetical Character in the string as per ASCII.\n",
    "- `min(<string>) ->` Returns the lowest Alphabetical Character in the string as per ASCII.\n",
    "- `<string>.splitlines() ->` Returns a list of lines in the string.\n",
    "- `<string>.capitalize() ->` Returns the string with first character capitalized.\n",
    "- `<string>.upper() ->` Returns the string with all characters in uppercase.\n",
    "- `<string>.lower() ->` Returns the string with all characters in lowercase\n",
    "- `<string>.casefold() ->` Returns the string in lowercase which can be used for caseless comparisions.\n",
    "- `<string>.expandtabs(no_of_spaces) ->` Replaces tabs in a string with specified no of spaces default is 8\n",
    "- `<string>.find(<sub_string>) ->` Returns lowest index of substring if substring is found in the string else returns -1.\n",
    "- `<string>.rfind(<sub_string>) ->` Returns highest index of substring if substring is found in the string else returns -1.\n",
    "- `<string>.count(<char>) ->` Returns the no of occurances of the char in the given string.\n",
    "- `<string>.split(<sep>) ->` Returns list of words seperated by given sep else seperated by whitespace.\n",
    "- `<string>.rsplit(<sep>) ->` Returns list of words seperated by given sep else seperated by whitespace scanning from end.\n",
    "- `<string>.lstrip() ->` Returns a copy of where leading whitespaces are removed.\n",
    "- `<string>.rstrip() ->` Returns a copy of where trailed whitespaces are removed.\n",
    "- `<string>.strip() ->` Returns a copy of where both leading and trailing whitespaces are removed."
   ]
  },
  {
   "attachments": {},
   "cell_type": "markdown",
   "id": "dbf211cb",
   "metadata": {},
   "source": [
    "**Q2.** How do the string forms in Python 3.X vary in terms of operations?"
   ]
  },
  {
   "attachments": {},
   "cell_type": "markdown",
   "id": "5d06c0c1",
   "metadata": {},
   "source": [
    "**Ans:** In Python3 default format of strings is Unicode Whereas in Pyton2 we need to explicitly mention Unicode value using `u`."
   ]
  },
  {
   "attachments": {},
   "cell_type": "markdown",
   "id": "a1730a0e",
   "metadata": {},
   "source": [
    "**Q3.** In Python 3.X, how do you put non-ASCII Unicode characters in a string?"
   ]
  },
  {
   "attachments": {},
   "cell_type": "markdown",
   "id": "c2243c62",
   "metadata": {},
   "source": [
    "**Ans:** In Python 3.x `unidecode()` method from unidecode library can be used to put non-ASCII Unicode Characters in a string. "
   ]
  },
  {
   "attachments": {},
   "cell_type": "markdown",
   "id": "b8612f7c",
   "metadata": {},
   "source": [
    "**Q4.** In Python 3.X, what are the key differences between text-mode and binary-mode files?"
   ]
  },
  {
   "attachments": {},
   "cell_type": "markdown",
   "id": "03a4b449",
   "metadata": {},
   "source": [
    "**Ans:** The major difference between these two is that a text file contains textual information in the form of alphabets, digits and special characters or symbols. On the other hand, a binary file contains bytes or a compiled version of a text file.\n",
    "\n",
    "When a file is opened in text mode, reading its data automatically decodes its content (as per the platform default or as per provided encoding), and returns it as a str; writing operation takes a str, and automatically encodes it before transferring to the file. Text mode files also support universal end-of-line translation, and encoding specification arguments.\n",
    "\n",
    "When a file is opened in binary mode by adding a `b` to the mode string argument in the `open()` call, reading its data does not decode it in any way, and simply returns its content raw and unchanged, as a bytes object; writing takes a bytes object and transfers it to the file unchanged. Binary-mode files also accept a bytearray object for the content to be written to the file."
   ]
  },
  {
   "attachments": {},
   "cell_type": "markdown",
   "id": "a64d5125",
   "metadata": {},
   "source": [
    "**Q5.** How can you interpret a Unicode text file containing text encoded in a different encoding than your platform's default?"
   ]
  },
  {
   "attachments": {},
   "cell_type": "markdown",
   "id": "f80d02aa",
   "metadata": {},
   "source": [
    "**Ans:** Use of `encode()` and `decode()` method can be used to you interpret a Unicode text file containing text encoded in a different encoding than your platform's default, by default encoding parameter is `UTF-8`"
   ]
  },
  {
   "attachments": {},
   "cell_type": "markdown",
   "id": "43828345",
   "metadata": {},
   "source": [
    "**Q7.** What qualifies ASCII text as a form of Unicode text?"
   ]
  },
  {
   "attachments": {},
   "cell_type": "markdown",
   "id": "42838dc3",
   "metadata": {},
   "source": [
    "**Ans:** `Unicode` represents most written languages in the world. `ASCII` has its equivalent in Unicode. The difference between ASCII and Unicode is that ASCII represents `lowercase letters (a-z)`, `uppercase letters (A-Z)`, `digits (0–9)` and symbols such as punctuation marks while Unicode represents letters of English, Arabic, Greek etc. mathematical symbols, historical scripts, emoji covering a wide range of characters than ASCII."
   ]
  },
  {
   "attachments": {},
   "cell_type": "markdown",
   "id": "080bfa7e",
   "metadata": {},
   "source": [
    "**Q8.** How much of an effect does the change in string types in Python 3.X have on your code?"
   ]
  },
  {
   "attachments": {},
   "cell_type": "markdown",
   "id": "0bef4cde",
   "metadata": {},
   "source": [
    "**Ans:** Python 3 stores strings as Unicode by default whereas Python 2 requires you to mark a string with a `u` if you want to store it as Unicode. Unicode strings are more versatile than ASCII strings, which are the Python 3.X default, as they can store letters from foreign languages as well as emoji and the standard Roman letters and numerals."
   ]
  }
 ],
 "metadata": {
  "kernelspec": {
   "display_name": "Python 3",
   "language": "python",
   "name": "python3"
  },
  "language_info": {
   "codemirror_mode": {
    "name": "ipython",
    "version": 3
   },
   "file_extension": ".py",
   "mimetype": "text/x-python",
   "name": "python",
   "nbconvert_exporter": "python",
   "pygments_lexer": "ipython3",
   "version": "3.11.0"
  },
  "vscode": {
   "interpreter": {
    "hash": "0ce04f76c7467da7eecc8b82ab5f2c80c83e62f7b0e3d6895d4c669363670452"
   }
  }
 },
 "nbformat": 4,
 "nbformat_minor": 5
}
