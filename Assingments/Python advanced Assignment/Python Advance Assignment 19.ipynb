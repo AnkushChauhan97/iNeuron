{
 "cells": [
  {
   "attachments": {},
   "cell_type": "markdown",
   "id": "20fe32ca",
   "metadata": {},
   "source": [
    "**Q1.** Define the relationship between a class and its instances. Is it a one-to-one or a one-to-many partnership, for example?"
   ]
  },
  {
   "attachments": {},
   "cell_type": "markdown",
   "id": "70f5b17f",
   "metadata": {},
   "source": [
    "**Ans:** Relationship between a class and its instances is a one to many partnership."
   ]
  },
  {
   "attachments": {},
   "cell_type": "markdown",
   "id": "a3998f76",
   "metadata": {},
   "source": [
    "**Q2.** What kind of data is held only in an instance?"
   ]
  },
  {
   "attachments": {},
   "cell_type": "markdown",
   "id": "27b24158",
   "metadata": {},
   "source": [
    "**Ans:** Instance objects contains the Instance variables which are specific to that specific Instance object."
   ]
  },
  {
   "attachments": {},
   "cell_type": "markdown",
   "id": "3bc4acfe",
   "metadata": {},
   "source": [
    "**Q3.** What kind of knowledge is stored in a class?"
   ]
  },
  {
   "attachments": {},
   "cell_type": "markdown",
   "id": "5a38c83e",
   "metadata": {},
   "source": [
    "**Ans:** Class creates a user-defined data structure, which holds its own data members and member functions, which can be accessed and used by creating an instance of that class. A class is like a blueprint for an object."
   ]
  },
  {
   "attachments": {},
   "cell_type": "markdown",
   "id": "d6c2ef9c",
   "metadata": {},
   "source": [
    "**Q4.** What exactly is a method, and how is it different from a regular function?"
   ]
  },
  {
   "attachments": {},
   "cell_type": "markdown",
   "id": "11fc271b",
   "metadata": {},
   "source": [
    "**Ans:** The methods with a class can be used to access the insatnce variables of its instance. So,the object's state can be modified by its method. Function can't access the attributes of an instance of a class or can't modify the state of the object."
   ]
  },
  {
   "attachments": {},
   "cell_type": "markdown",
   "id": "471e1689",
   "metadata": {},
   "source": [
    "**Q5.** Is inheritance supported in Python, and if so, what is the syntax?"
   ]
  },
  {
   "attachments": {},
   "cell_type": "markdown",
   "id": "fea87e84",
   "metadata": {},
   "source": [
    "**Ans:** Yes,Python supports inheritance."
   ]
  },
  {
   "cell_type": "code",
   "execution_count": 2,
   "id": "63b31180",
   "metadata": {},
   "outputs": [],
   "source": [
    "class Person:\n",
    "    def __init__(self, name):\n",
    "        self.last_name = name\n",
    "class Student(Person):\n",
    "    pass"
   ]
  },
  {
   "attachments": {},
   "cell_type": "markdown",
   "id": "1f2a9517",
   "metadata": {},
   "source": [
    "**Q6.** How much encapsulation (making instance or class variables private) does Python support?"
   ]
  },
  {
   "attachments": {},
   "cell_type": "markdown",
   "id": "4f96b1d7",
   "metadata": {},
   "source": [
    "**Ans:** Encapsulation describes the idea of wrapping data and the methods that work on data within one unit. This puts restrictions on accessing variables and methods directly and can prevent the accidental modification of data. To prevent accidental change, an objects variable can only be changed by an objects method."
   ]
  },
  {
   "attachments": {},
   "cell_type": "markdown",
   "id": "c0de33d4",
   "metadata": {},
   "source": [
    "**Q7.** How do you distinguish between a class variable and an instance variable?"
   ]
  },
  {
   "attachments": {},
   "cell_type": "markdown",
   "id": "8161343e",
   "metadata": {},
   "source": [
    "**Ans:** The `Class Attribute` is available to all the instance objects of that class. whereas `Instance Attributes` are accessible only to the object or Instance of that class. \n",
    "\n",
    "A single copy of Class attributes is maintained by pvm at the class level. Whereas difference copies of instance attributes are maintained by pvm at objects/instance level."
   ]
  },
  {
   "attachments": {},
   "cell_type": "markdown",
   "id": "65768276",
   "metadata": {},
   "source": [
    "**Q8.** When, if ever, can self be included in a class's method definitions?"
   ]
  },
  {
   "attachments": {},
   "cell_type": "markdown",
   "id": "b2f47ea5",
   "metadata": {},
   "source": [
    "**Ans:** Yes, self can included in class method definations to access the instance variables inside class methods."
   ]
  },
  {
   "attachments": {},
   "cell_type": "markdown",
   "id": "ae7c6bbf",
   "metadata": {},
   "source": [
    "**Q9.** What is the difference between the `__add__` and the `__radd__` methods ?"
   ]
  },
  {
   "attachments": {},
   "cell_type": "markdown",
   "id": "d99b3232",
   "metadata": {},
   "source": [
    "**Ans:** Entering `__radd__` Python will first try `__add__()`, and if that returns Not Implemented Python will check if the right-hand operand implements `__radd__`, and if it does, it will call `__radd__()` rather than raising a `TypeError`"
   ]
  },
  {
   "attachments": {},
   "cell_type": "markdown",
   "id": "5eae7542",
   "metadata": {},
   "source": [
    "**Q10.** When is it necessary to use a reflection method? When do you not need it, even though you support the operation in question?"
   ]
  },
  {
   "attachments": {},
   "cell_type": "markdown",
   "id": "5879b3f5",
   "metadata": {},
   "source": [
    "**Ans:** Reflection method we often encounter the requirement that a method in the executing object, or a variable in the calling object, or a field of the object should be assigned, while the method name or field name can not be determined when encoding the code, and need to be input in the form of passing strings through parameters."
   ]
  },
  {
   "attachments": {},
   "cell_type": "markdown",
   "id": "98aac547",
   "metadata": {},
   "source": [
    "**Q11.** What is the `__iadd__` method called?"
   ]
  },
  {
   "attachments": {},
   "cell_type": "markdown",
   "id": "e7287eb3",
   "metadata": {},
   "source": [
    "**Ans:** `__iadd__` method is called when we use implementation like a+=b which is `a.__iadd__(b)`"
   ]
  },
  {
   "attachments": {},
   "cell_type": "markdown",
   "id": "f6c3908c",
   "metadata": {},
   "source": [
    "**Q12.** Is the `_ _init_ _` method inherited by subclasses? What do you do if you need to customize its behavior within a subclass ?"
   ]
  },
  {
   "attachments": {},
   "cell_type": "markdown",
   "id": "103f210e",
   "metadata": {},
   "source": [
    "**Ans:** Yes, `__init__` method will be inherited by subclasses. if we want to customize its behaviour within a subclass we can use `super()` method."
   ]
  }
 ],
 "metadata": {
  "kernelspec": {
   "display_name": "Python 3",
   "language": "python",
   "name": "python3"
  },
  "language_info": {
   "codemirror_mode": {
    "name": "ipython",
    "version": 3
   },
   "file_extension": ".py",
   "mimetype": "text/x-python",
   "name": "python",
   "nbconvert_exporter": "python",
   "pygments_lexer": "ipython3",
   "version": "3.11.0"
  },
  "vscode": {
   "interpreter": {
    "hash": "0ce04f76c7467da7eecc8b82ab5f2c80c83e62f7b0e3d6895d4c669363670452"
   }
  }
 },
 "nbformat": 4,
 "nbformat_minor": 5
}
