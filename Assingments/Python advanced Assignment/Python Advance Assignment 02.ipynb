{
 "cells": [
  {
   "attachments": {},
   "cell_type": "markdown",
   "id": "91f50838",
   "metadata": {},
   "source": [
    "**Q1.** What is the relationship between classes and modules?"
   ]
  },
  {
   "attachments": {},
   "cell_type": "markdown",
   "id": "001504ab",
   "metadata": {},
   "source": [
    "**Ans:** A Python class is like an mold for creating a new object. An object is anything that you wish to manipulate or change while working through the code. Every time a class object is initiated, which is when we declare a variable, a new object is initiated from that class.\n",
    "\n",
    "Whereas Modules are simply files with the `. py` extension containing Python code or functions that can be imported inside another Python Program. In simple terms, we can consider a module to be the same as a code library or a file that contains a set of functions/Classes that you want to include in your application."
   ]
  },
  {
   "attachments": {},
   "cell_type": "markdown",
   "id": "92be3b82",
   "metadata": {},
   "source": [
    "**Q2.** How do you make instances and classes?"
   ]
  },
  {
   "attachments": {},
   "cell_type": "markdown",
   "id": "77f8126a",
   "metadata": {},
   "source": [
    "**Ans:** For creating a class instance. We call a class by its name."
   ]
  },
  {
   "cell_type": "code",
   "execution_count": 7,
   "id": "f8a5b6e4",
   "metadata": {},
   "outputs": [],
   "source": [
    "# For example:\n",
    "\n",
    "class emp:\n",
    "    def __init__(self, sex,sal):\n",
    "        self.sex = sex\n",
    "        self.sal = sal\n",
    "        \n",
    "emp_1 = emp(\"m\", 2000)\n",
    "\n",
    "#here emp_1 is an instance of class emp."
   ]
  },
  {
   "attachments": {},
   "cell_type": "markdown",
   "id": "4cfb843c",
   "metadata": {},
   "source": [
    "**Q3.** Where and how should be class attributes created?"
   ]
  },
  {
   "attachments": {},
   "cell_type": "markdown",
   "id": "f25be24e",
   "metadata": {},
   "source": [
    "**Ans:** Class attributes or Class level Attributes belong to the class itself. these attributes will be shared by all the instances of the class. Hence these attributes are usually created outside all methods."
   ]
  },
  {
   "cell_type": "code",
   "execution_count": 8,
   "id": "2ae82c30",
   "metadata": {},
   "outputs": [],
   "source": [
    "class Car:\n",
    "    wheels = 4; \n",
    "    def __init__(self,color,price,engine):\n",
    "        self.color = color\n",
    "        self.price = price\n",
    "        self.engine = engine\n",
    "\n",
    "#Here wheels is an class attribute & color, price, engine are instance veriable."
   ]
  },
  {
   "attachments": {},
   "cell_type": "markdown",
   "id": "47c44e75",
   "metadata": {},
   "source": [
    "**Q4.** Where and how are instance attributes created?\n",
    "**Ans:** Instances attributes are passed to the class when an object of the class is created. Unlike class attributes, instance attributes are not shared by all objects of the classs. Instead each object maintains its own copy of instance attributes at object level."
   ]
  },
  {
   "cell_type": "code",
   "execution_count": null,
   "id": "ff7b871d",
   "metadata": {},
   "outputs": [],
   "source": [
    "class Car:\n",
    "    wheels = 4; \n",
    "    def __init__(self,color,price,engine):\n",
    "        self.color = color\n",
    "        self.price = price\n",
    "        self.engine = engine\n",
    "\n",
    "Tata = Car(\"Blue\", \"490000\", \"Petrol\")\n",
    "Maruti = Car(\"Black\", \"590000\", \"Petrol\")\n",
    "\n",
    "#Here Tata & Maruti are two instnaces of car class with diffrent attribute like Blue, Petrol etc. as instance veriables."
   ]
  },
  {
   "attachments": {},
   "cell_type": "markdown",
   "id": "0ed28045",
   "metadata": {},
   "source": [
    "**Q5.** What does the term \"self\" in a Python class mean?"
   ]
  },
  {
   "attachments": {},
   "cell_type": "markdown",
   "id": "c622d10a",
   "metadata": {},
   "source": [
    "**Ans:** `self` is the first attribute of that refers to instance itself at the time of calling a method or creating a class instance. It is also used to binds the attributes with the given arguments."
   ]
  },
  {
   "cell_type": "code",
   "execution_count": 9,
   "id": "7864bf87",
   "metadata": {},
   "outputs": [
    {
     "name": "stdout",
     "output_type": "stream",
     "text": [
      "{'color': 'Blue', 'price': '490000', 'engine': 'Petrol'}\n",
      "{'color': 'Black', 'price': '590000', 'engine': 'Petrol'}\n"
     ]
    }
   ],
   "source": [
    "class Car:\n",
    "    wheels = 4; \n",
    "    def __init__(self,color,price,engine):\n",
    "        self.color = color\n",
    "        self.price = price\n",
    "        self.engine = engine\n",
    "\n",
    "Tata = Car(\"Blue\", \"490000\", \"Petrol\")\n",
    "Maruti = Car(\"Black\", \"590000\", \"Petrol\")\n",
    "\n",
    "print(Tata.__dict__)\n",
    "print(Maruti.__dict__)"
   ]
  },
  {
   "attachments": {},
   "cell_type": "markdown",
   "id": "f58ed1f8",
   "metadata": {},
   "source": [
    "**Q6.** How does a Python class handle operator overloading?"
   ]
  },
  {
   "attachments": {},
   "cell_type": "markdown",
   "id": "439d9d7e",
   "metadata": {},
   "source": [
    "**Q7.** When do you consider allowing operator overloading of your classes?"
   ]
  },
  {
   "attachments": {},
   "cell_type": "markdown",
   "id": "952aeaf1",
   "metadata": {},
   "source": [
    "**Ans:** When we want to have different meaning for the same operator accroding to the context we use operator overloading."
   ]
  },
  {
   "attachments": {},
   "cell_type": "markdown",
   "id": "0cd1ea24",
   "metadata": {},
   "source": [
    "**Q8.** What is the most popular form of operator overloading?\n",
    "**Ans:** The most popular form of operator overloading in python is by special methods called Magic methods. Which usually beign and end with double underscore `__<method name>__`."
   ]
  },
  {
   "attachments": {},
   "cell_type": "markdown",
   "id": "3ff6f7f0",
   "metadata": {},
   "source": [
    "**Q9.** What are the two most important concepts to grasp in order to comprehend Python OOP code?"
   ]
  },
  {
   "attachments": {},
   "cell_type": "markdown",
   "id": "9b198427",
   "metadata": {},
   "source": [
    "**Ans:** Classes and Objects are the two concepts to comprehend python OOP code as more formally objects are entities that represent instances of general abstract concept called class. Along with these 2 other concepts like Inheritence, Abstraction, Polymorphism, Encapsulation are also very important in order to fully understand & utilize OOP's programs."
   ]
  }
 ],
 "metadata": {
  "kernelspec": {
   "display_name": "Python 3",
   "language": "python",
   "name": "python3"
  },
  "language_info": {
   "codemirror_mode": {
    "name": "ipython",
    "version": 3
   },
   "file_extension": ".py",
   "mimetype": "text/x-python",
   "name": "python",
   "nbconvert_exporter": "python",
   "pygments_lexer": "ipython3",
   "version": "3.11.0"
  },
  "vscode": {
   "interpreter": {
    "hash": "0ce04f76c7467da7eecc8b82ab5f2c80c83e62f7b0e3d6895d4c669363670452"
   }
  }
 },
 "nbformat": 4,
 "nbformat_minor": 5
}
