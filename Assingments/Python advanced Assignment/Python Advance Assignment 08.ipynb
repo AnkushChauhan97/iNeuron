{
 "cells": [
  {
   "attachments": {},
   "cell_type": "markdown",
   "id": "efb72245",
   "metadata": {},
   "source": [
    "**Q1.** What are the two latest user-defined exception constraints in Python 3.X?"
   ]
  },
  {
   "attachments": {},
   "cell_type": "markdown",
   "id": "ecc39fe2",
   "metadata": {},
   "source": [
    "**Ans:** `raise` and `assert` are the two latest user-defined exception constraints in Python 3.X"
   ]
  },
  {
   "attachments": {},
   "cell_type": "markdown",
   "id": "f1479448",
   "metadata": {},
   "source": [
    "**Q2.** How are class-based exceptions that have been raised matched to handlers?"
   ]
  },
  {
   "attachments": {},
   "cell_type": "markdown",
   "id": "161f65d5",
   "metadata": {},
   "source": [
    "**Ans:** In python, Users can define custom exceptions by creating a new class. This exception class has to be derived, either directly or indirectly from built-in `Exception` class. This new exception class like other exceptions can be raised using the `raise` statement with an optional error message"
   ]
  },
  {
   "cell_type": "code",
   "execution_count": 5,
   "id": "648a981d",
   "metadata": {},
   "outputs": [
    {
     "ename": "InCorrectPW",
     "evalue": "Password is not string",
     "output_type": "error",
     "traceback": [
      "\u001b[1;31m---------------------------------------------------------------------------\u001b[0m",
      "\u001b[1;31mInCorrectPW\u001b[0m                               Traceback (most recent call last)",
      "Cell \u001b[1;32mIn[5], line 5\u001b[0m\n\u001b[0;32m      3\u001b[0m         \u001b[39mself\u001b[39m\u001b[39m.\u001b[39mmsg \u001b[39m=\u001b[39m msg\n\u001b[0;32m      4\u001b[0m PW \u001b[39m=\u001b[39m \u001b[39m123456\u001b[39m\n\u001b[1;32m----> 5\u001b[0m \u001b[39mif\u001b[39;00m \u001b[39mtype\u001b[39m(PW) \u001b[39m!=\u001b[39m \u001b[39mstr\u001b[39m: \u001b[39mraise\u001b[39;00m InCorrectPW(\u001b[39m'\u001b[39m\u001b[39mPassword is not string\u001b[39m\u001b[39m'\u001b[39m)\n",
      "\u001b[1;31mInCorrectPW\u001b[0m: Password is not string"
     ]
    }
   ],
   "source": [
    "class InCorrectPW(Exception):\n",
    "    def __init__(self,msg):\n",
    "        self.msg = msg\n",
    "PW = 123456\n",
    "if type(PW) != str: raise InCorrectPW('Password is not string')"
   ]
  },
  {
   "attachments": {},
   "cell_type": "markdown",
   "id": "15ce7b10",
   "metadata": {},
   "source": [
    "**Q3.** Describe two methods for attaching context information to exception artefacts ?"
   ]
  },
  {
   "attachments": {},
   "cell_type": "markdown",
   "id": "8932ead4",
   "metadata": {},
   "source": [
    "**Ans:** The `process()` method of LoggerAdapter is where the contextual information is added to the logging output. its passes the message and keyword arguments of the logging call, and it passes back modified versions of these to use in the call to the underlying logger.\n",
    "\n",
    "Other method that can be used is `exception()`, Logs a messgae with level ERROR on this logger. The arguments are interpreted as for `debug()`. Exception info is added to the logging message."
   ]
  },
  {
   "attachments": {},
   "cell_type": "markdown",
   "id": "7fbfd775",
   "metadata": {},
   "source": [
    "**Q4.** Describe two methods for specifying the text of an exception object's error message ?"
   ]
  },
  {
   "attachments": {},
   "cell_type": "markdown",
   "id": "4157b53e",
   "metadata": {},
   "source": [
    "**Ans:** `raise` and `assert` are two methods for specifying the text of an exception object's error message.`raise` statement is used to trigger explicit exception, if certain condition is not as per requirement of programmer. it helps in triggering exception as per need of programmer and logic.\n",
    "\n",
    "There are few assertions that programmer always want to be True to avoid code failure. This type of requirment is fullfilled by `assert` statement. This statement takes a Boolean Condition output of which if True, further program executes. if output of assert statement is False it raises an `Assertion Error`."
   ]
  },
  {
   "attachments": {},
   "cell_type": "markdown",
   "id": "0855de9b",
   "metadata": {},
   "source": [
    "**Q5.** Why do you no longer use string-based exceptions?"
   ]
  },
  {
   "attachments": {},
   "cell_type": "markdown",
   "id": "d6533af9",
   "metadata": {},
   "source": [
    "**Ans:** String-based Exceptions doesn't inherit from Exceptions. So plain exceptions catch all exceptions and not only system."
   ]
  }
 ],
 "metadata": {
  "kernelspec": {
   "display_name": "Python 3",
   "language": "python",
   "name": "python3"
  },
  "language_info": {
   "codemirror_mode": {
    "name": "ipython",
    "version": 3
   },
   "file_extension": ".py",
   "mimetype": "text/x-python",
   "name": "python",
   "nbconvert_exporter": "python",
   "pygments_lexer": "ipython3",
   "version": "3.11.0"
  },
  "vscode": {
   "interpreter": {
    "hash": "0ce04f76c7467da7eecc8b82ab5f2c80c83e62f7b0e3d6895d4c669363670452"
   }
  }
 },
 "nbformat": 4,
 "nbformat_minor": 5
}
