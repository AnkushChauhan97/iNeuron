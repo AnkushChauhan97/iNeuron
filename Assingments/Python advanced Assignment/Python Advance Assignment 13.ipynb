{
 "cells": [
  {
   "attachments": {},
   "cell_type": "markdown",
   "id": "dfee8ef3",
   "metadata": {},
   "source": [
    "**Q1.** Can you create a programme or function that employs both positive and negative indexing? Is there any repercussion if you do so?"
   ]
  },
  {
   "cell_type": "code",
   "execution_count": 15,
   "id": "900d1a45",
   "metadata": {},
   "outputs": [
    {
     "name": "stdout",
     "output_type": "stream",
     "text": [
      "Positive Indexing : 6\n",
      "Negative Indexing : 10\n"
     ]
    }
   ],
   "source": [
    "my_list = [1,2,3,4,5,6,6,7,8,9,10]\n",
    "def bi_index(in_list,position):\n",
    "    return in_list[position]\n",
    "print('Positive Indexing :',bi_index(my_list,5))\n",
    "print('Negative Indexing :',bi_index(my_list,-1))"
   ]
  },
  {
   "attachments": {},
   "cell_type": "markdown",
   "id": "12df6e66",
   "metadata": {},
   "source": [
    "**Q2.** What is the most effective way of starting with 1,000 elements in a Python list? Assume that all elements should be set to the same value."
   ]
  },
  {
   "cell_type": "code",
   "execution_count": 16,
   "id": "4c491202",
   "metadata": {},
   "outputs": [
    {
     "name": "stdout",
     "output_type": "stream",
     "text": [
      "[0, 1, 2, 3, 4, 5, 6, 7, 8, 9, 10, 11, 12, 13, 14, 15, 16, 17, 18, 19, 20, 21, 22, 23, 24, 25, 26, 27, 28, 29, 30, 31, 32, 33, 34, 35, 36, 37, 38, 39, 40, 41, 42, 43, 44, 45, 46, 47, 48, 49, 50, 51, 52, 53, 54, 55, 56, 57, 58, 59, 60, 61, 62, 63, 64, 65, 66, 67, 68, 69, 70, 71, 72, 73, 74, 75, 76, 77, 78, 79, 80, 81, 82, 83, 84, 85, 86, 87, 88, 89, 90, 91, 92, 93, 94, 95, 96, 97, 98, 99]\n"
     ]
    }
   ],
   "source": [
    "start_list = [x for x in range(100)]\n",
    "print(start_list)"
   ]
  },
  {
   "attachments": {},
   "cell_type": "markdown",
   "id": "6351fa74",
   "metadata": {},
   "source": [
    "**Q3.** How do you slice a list to get any other part while missing the rest? (For example, suppose you want to make a new list with the elements first, third, fifth, seventh, and so on.)"
   ]
  },
  {
   "cell_type": "code",
   "execution_count": 17,
   "id": "8086d0ef",
   "metadata": {},
   "outputs": [
    {
     "name": "stdout",
     "output_type": "stream",
     "text": [
      "my_list: [1, 2, 3, 4, 5, 6, 7, 8, 9, 10, 11, 12, 13, 14]\n",
      "sliced_list: [1, 3, 5, 7, 9, 11, 13]\n"
     ]
    }
   ],
   "source": [
    "my_list = [x for x in range(1,15)]\n",
    "print(f'my_list: {my_list}')\n",
    "sliced_list = my_list[::2]\n",
    "print(f'sliced_list: {sliced_list}')"
   ]
  },
  {
   "attachments": {},
   "cell_type": "markdown",
   "id": "250146a1",
   "metadata": {},
   "source": [
    "**Q4.** Explain the distinctions between indexing and slicing ?"
   ]
  },
  {
   "attachments": {},
   "cell_type": "markdown",
   "id": "4603f2ed",
   "metadata": {},
   "source": [
    "**Ans:**  Indexing is used when we have to work on index level. While slicing are used over a range of items."
   ]
  },
  {
   "cell_type": "code",
   "execution_count": 18,
   "id": "f8d34711",
   "metadata": {},
   "outputs": [
    {
     "name": "stdout",
     "output_type": "stream",
     "text": [
      "my_list : [1, 2, 3, 4, 5, 6, 7, 8, 9, 10, 11, 12, 13, 14]\n",
      "Example of indexing : (2, 6)\n",
      "Example of slicing : [2, 3, 4, 5]\n"
     ]
    }
   ],
   "source": [
    "my_list = [x for x in range(1,15)]\n",
    "print(f'my_list : {my_list}')\n",
    "print(f'Example of indexing : {my_list[1], my_list[5]}')\n",
    "print(f'Example of slicing : {my_list[1:5]}')"
   ]
  },
  {
   "attachments": {},
   "cell_type": "markdown",
   "id": "a4d16dbf",
   "metadata": {},
   "source": [
    "**Q5.** What happens if one of the slicing expression's indexes is out of range?"
   ]
  },
  {
   "attachments": {},
   "cell_type": "markdown",
   "id": "85367545",
   "metadata": {},
   "source": [
    "**Ans:** If start index is out of range then it will return empty entity."
   ]
  },
  {
   "cell_type": "code",
   "execution_count": 19,
   "id": "5f827cf4",
   "metadata": {},
   "outputs": [
    {
     "name": "stdout",
     "output_type": "stream",
     "text": [
      "my_list : [1, 2, 3, 4, 5, 6, 7, 8, 9, 10, 11, 12, 13, 14]\n",
      "Case #1 : []\n",
      "Case #2 : [11, 12, 13, 14]\n"
     ]
    }
   ],
   "source": [
    "my_list = [x for x in range(1,15)]\n",
    "my_list = [x for x in range(1,15)]\n",
    "print(f'my_list : {my_list}')\n",
    "print(f'Case #1 : {my_list[20:]}')\n",
    "print(f'Case #2 : {my_list[10:100]}')"
   ]
  },
  {
   "attachments": {},
   "cell_type": "markdown",
   "id": "33dbda88",
   "metadata": {},
   "source": [
    "**Q6.** If you pass a list to a function, and if you want the function to be able to change the values of the list—so that the list is different after the function returns—what action should you do?"
   ]
  },
  {
   "attachments": {},
   "cell_type": "markdown",
   "id": "91baef67",
   "metadata": {},
   "source": [
    "**Ans:** Always use `return` statement, if we want the see the changes in the input list."
   ]
  },
  {
   "cell_type": "code",
   "execution_count": 20,
   "id": "97340aef",
   "metadata": {},
   "outputs": [
    {
     "name": "stdout",
     "output_type": "stream",
     "text": [
      "[1, 2, 3, 4, 5, 6, 200]\n"
     ]
    }
   ],
   "source": [
    "my_list = [1,2,3,4,5,6]\n",
    "def modify_list(in_list):\n",
    "    in_list.append(200)\n",
    "    return in_list\n",
    "print(modify_list(my_list))"
   ]
  },
  {
   "attachments": {},
   "cell_type": "markdown",
   "id": "6b1caf1f",
   "metadata": {},
   "source": [
    "**Q7.** What is the concept of an unbalanced matrix?"
   ]
  },
  {
   "attachments": {},
   "cell_type": "markdown",
   "id": "34f78f42",
   "metadata": {},
   "source": [
    "**Ans:** In Unbalanced Matrix number of rows is not same as number of columns."
   ]
  },
  {
   "attachments": {},
   "cell_type": "markdown",
   "id": "95862b0d",
   "metadata": {},
   "source": [
    "**Q8.** Why is it necessary to use either list comprehension or a loop to create arbitrarily large matrices?"
   ]
  },
  {
   "attachments": {},
   "cell_type": "markdown",
   "id": "809fa64a",
   "metadata": {},
   "source": [
    "**Ans:**  List comprehension or a Loop helps creation of large matrices easy. it also helps to implemeent and avoid manual errors. it also makes reading code easy. Also lot of time for manual feeding is reduced."
   ]
  }
 ],
 "metadata": {
  "kernelspec": {
   "display_name": "Python 3",
   "language": "python",
   "name": "python3"
  },
  "language_info": {
   "codemirror_mode": {
    "name": "ipython",
    "version": 3
   },
   "file_extension": ".py",
   "mimetype": "text/x-python",
   "name": "python",
   "nbconvert_exporter": "python",
   "pygments_lexer": "ipython3",
   "version": "3.11.0"
  },
  "vscode": {
   "interpreter": {
    "hash": "0ce04f76c7467da7eecc8b82ab5f2c80c83e62f7b0e3d6895d4c669363670452"
   }
  }
 },
 "nbformat": 4,
 "nbformat_minor": 5
}
