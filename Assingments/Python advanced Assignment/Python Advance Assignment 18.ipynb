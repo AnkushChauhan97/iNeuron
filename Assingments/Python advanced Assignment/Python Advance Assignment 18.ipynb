{
 "cells": [
  {
   "attachments": {},
   "cell_type": "markdown",
   "id": "fcd9b173",
   "metadata": {},
   "source": [
    "**Q1.** Describe the differences between text and binary files in a single paragraph."
   ]
  },
  {
   "attachments": {},
   "cell_type": "markdown",
   "id": "899f3798",
   "metadata": {},
   "source": [
    "**Ans:** The differences between Text Files and Binary Files are:\n",
    "\n",
    "Text files are special subset of binary files that are used to store human readable characters as a rich text document or plain text document. Text files also store data in sequential bytes but bits in text file represents characters.\n",
    "\n",
    "Binary files are those typical files that store data in the form of sequence of bytes grouped into eight bits or sometimes sixteen bits. These bits represent custom data and such files can store multiple types of data (images, audio, text, etc) under a single file."
   ]
  },
  {
   "attachments": {},
   "cell_type": "markdown",
   "id": "3e363a3b",
   "metadata": {},
   "source": [
    "**Q2.** What are some scenarios where using text files will be the better option? When would you like to use binary files instead of text files?"
   ]
  },
  {
   "attachments": {},
   "cell_type": "markdown",
   "id": "b98db19d",
   "metadata": {},
   "source": [
    "**Ans:** Text files are less prone to get corrupted as any undesired change may just show up once the file is opened and then can easily be removed. Whereas Use binary files instead of text files for image data."
   ]
  },
  {
   "attachments": {},
   "cell_type": "markdown",
   "id": "79fabe8b",
   "metadata": {},
   "source": [
    "**Q3.** What are some of the issues with using binary operations to read and write a Python integer directly to disc?"
   ]
  },
  {
   "attachments": {},
   "cell_type": "markdown",
   "id": "058670a0",
   "metadata": {},
   "source": [
    "**Ans:** When we read or write a python integer using binary operations \n",
    "1. Binary operations deal with raw data\n",
    "2. One needs to identify how many bytes one would read or write."
   ]
  },
  {
   "attachments": {},
   "cell_type": "markdown",
   "id": "96674fa6",
   "metadata": {},
   "source": [
    "**Q4.** Describe a benefit of using the with keyword instead of explicitly opening a file ?"
   ]
  },
  {
   "attachments": {},
   "cell_type": "markdown",
   "id": "a9a876e8",
   "metadata": {},
   "source": [
    "**Ans:** When a file is opened using the `with` keyword, if some exceptions occur after opening a file, or at the end of the file it automatically does the closing of the file. There by not leaving an file in open mode and there would no need to  explicitly close a file."
   ]
  },
  {
   "attachments": {},
   "cell_type": "markdown",
   "id": "7ec11be2",
   "metadata": {},
   "source": [
    "**Q5.** Does Python have the trailing newline while reading a line of text? Does Python append a newline when you write a line of text?"
   ]
  },
  {
   "attachments": {},
   "cell_type": "markdown",
   "id": "b03d6856",
   "metadata": {},
   "source": [
    "**Ans:** Yes, Python have the trailing newline while reading a line of text. When we write a newline has to be provided in python excpicitly."
   ]
  },
  {
   "attachments": {},
   "cell_type": "markdown",
   "id": "8d433ac7",
   "metadata": {},
   "source": [
    "**Q6.** What file operations enable for random-access operation?"
   ]
  },
  {
   "attachments": {},
   "cell_type": "markdown",
   "id": "543b1817",
   "metadata": {},
   "source": [
    "**Ans:** The file operations enable for random-access operation are `seek()` and `tell()`"
   ]
  },
  {
   "attachments": {},
   "cell_type": "markdown",
   "id": "6e521586",
   "metadata": {},
   "source": [
    "**Q7.** When do you think you'll use the struct package the most?"
   ]
  },
  {
   "attachments": {},
   "cell_type": "markdown",
   "id": "c89b64c2",
   "metadata": {},
   "source": [
    "**Ans:** The `struct` package is mostly used while converting a common python types into `C` language types."
   ]
  },
  {
   "attachments": {},
   "cell_type": "markdown",
   "id": "9609ec3f",
   "metadata": {},
   "source": [
    "**Q8.** When is pickling the best option?"
   ]
  },
  {
   "attachments": {},
   "cell_type": "markdown",
   "id": "46e1f100",
   "metadata": {},
   "source": [
    "**Ans:** Pickling is best option for creating a new binary file using python."
   ]
  },
  {
   "attachments": {},
   "cell_type": "markdown",
   "id": "98b90ed9",
   "metadata": {},
   "source": [
    "**Q9.** When will it be best to use the shelve package?"
   ]
  },
  {
   "attachments": {},
   "cell_type": "markdown",
   "id": "7eb17d03",
   "metadata": {},
   "source": [
    "**Ans:** `Shelve` package is used to pickle data but  treats the entire file as dictionary."
   ]
  },
  {
   "attachments": {},
   "cell_type": "markdown",
   "id": "a4ad2a21",
   "metadata": {},
   "source": [
    "**Q10.** What is a special restriction when using the shelve package, as opposed to using other data dictionaries?"
   ]
  },
  {
   "attachments": {},
   "cell_type": "markdown",
   "id": "6ce4a20e",
   "metadata": {},
   "source": [
    "**Ans:** Only string data type can be used as key in this special dictionary object, whereas any picklable Python object can be used as value."
   ]
  }
 ],
 "metadata": {
  "kernelspec": {
   "display_name": "Python 3",
   "language": "python",
   "name": "python3"
  },
  "language_info": {
   "codemirror_mode": {
    "name": "ipython",
    "version": 3
   },
   "file_extension": ".py",
   "mimetype": "text/x-python",
   "name": "python",
   "nbconvert_exporter": "python",
   "pygments_lexer": "ipython3",
   "version": "3.11.0 (main, Oct 24 2022, 18:26:48) [MSC v.1933 64 bit (AMD64)]"
  },
  "vscode": {
   "interpreter": {
    "hash": "0ce04f76c7467da7eecc8b82ab5f2c80c83e62f7b0e3d6895d4c669363670452"
   }
  }
 },
 "nbformat": 4,
 "nbformat_minor": 5
}
