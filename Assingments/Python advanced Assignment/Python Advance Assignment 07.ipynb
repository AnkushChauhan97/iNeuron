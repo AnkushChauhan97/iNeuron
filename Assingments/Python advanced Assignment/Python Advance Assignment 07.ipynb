{
 "cells": [
  {
   "attachments": {},
   "cell_type": "markdown",
   "id": "890ac6ef",
   "metadata": {},
   "source": [
    "**Q1.** What is the purpose of the try statement?"
   ]
  },
  {
   "attachments": {},
   "cell_type": "markdown",
   "id": "ebc76ea2",
   "metadata": {},
   "source": [
    "**Ans:** `try` statement is used for exception handling in python. it consists of a block of risky statements which might cause an exception during runtime. if code within try block raises exception, then the exception will be reverted to the corresponding except block if multiple except blocks are present, else it willbe reverted to the default except block. In short try and except in union avoid programs from crashing during runtime due to exceptions."
   ]
  },
  {
   "cell_type": "code",
   "execution_count": 1,
   "id": "72d89888",
   "metadata": {},
   "outputs": [
    {
     "name": "stdout",
     "output_type": "stream",
     "text": [
      "Division by Zero is Not Possible\n"
     ]
    }
   ],
   "source": [
    "try:\n",
    "    print(10/0)\n",
    "except ZeroDivisionError:\n",
    "    print('Division by Zero is Not Possible')"
   ]
  },
  {
   "attachments": {},
   "cell_type": "markdown",
   "id": "4edfb2b6",
   "metadata": {},
   "source": [
    "**Q2.** What are the two most popular try statement variations?"
   ]
  },
  {
   "attachments": {},
   "cell_type": "markdown",
   "id": "1986a58a",
   "metadata": {},
   "source": [
    "**Ans:** The Popular try statement variations are:\n",
    "1. `try`,`except`\n",
    "2. `try`,`except`,`finally`\n",
    "\n",
    "The `try` block is used to check code for exceptions during runtime. ie code inside `try` block will execute completely when there is no error in the program. Whereas the code inside `except` block will execute whenever the program encounters some error in the preceeding `try` block. The code in the `finally` block will execute irrespective of exception."
   ]
  },
  {
   "attachments": {},
   "cell_type": "markdown",
   "id": "c39b56b0",
   "metadata": {},
   "source": [
    "**Q3.** What is the purpose of the raise statement?"
   ]
  },
  {
   "attachments": {},
   "cell_type": "markdown",
   "id": "567958e6",
   "metadata": {},
   "source": [
    "**Ans:** `raise` statement is used to trigger an exception explicitly, if a certain condition is not as per requirement of programmer. `raise` statement helps in triggering exception as per programming logic."
   ]
  },
  {
   "attachments": {},
   "cell_type": "markdown",
   "id": "2ea68550",
   "metadata": {},
   "source": [
    "**Q4.** What does the assert statement do, and what other statement is it like?"
   ]
  },
  {
   "attachments": {},
   "cell_type": "markdown",
   "id": "2cec2242",
   "metadata": {},
   "source": [
    "**Ans:** There are few assertions that programmer always want to be true to avoid code failure. This type of requirement is fulfilled by `assert` statement. This statement takes a boolean condition output of which is True, Further Program Executes. if output of assert statement is False, it raises an Assertion Error."
   ]
  },
  {
   "cell_type": "code",
   "execution_count": 2,
   "id": "6df3fe6c",
   "metadata": {},
   "outputs": [
    {
     "ename": "AssertionError",
     "evalue": "this is not a valid statement",
     "output_type": "error",
     "traceback": [
      "\u001b[1;31m---------------------------------------------------------------------------\u001b[0m",
      "\u001b[1;31mAssertionError\u001b[0m                            Traceback (most recent call last)",
      "Cell \u001b[1;32mIn[2], line 1\u001b[0m\n\u001b[1;32m----> 1\u001b[0m \u001b[39massert\u001b[39;00m(\u001b[39m2\u001b[39m \u001b[39m==\u001b[39m \u001b[39m4\u001b[39m), \u001b[39mf\u001b[39m\u001b[39m'\u001b[39m\u001b[39mthis is not a valid statement\u001b[39m\u001b[39m'\u001b[39m\n",
      "\u001b[1;31mAssertionError\u001b[0m: this is not a valid statement"
     ]
    }
   ],
   "source": [
    "assert(2 == 4), f'this is not a valid statement'"
   ]
  },
  {
   "attachments": {},
   "cell_type": "markdown",
   "id": "1cc50d65",
   "metadata": {},
   "source": [
    "**Q5.** What is the purpose of the with/as argument, and what other statement is it like?"
   ]
  },
  {
   "attachments": {},
   "cell_type": "markdown",
   "id": "8de00ab5",
   "metadata": {},
   "source": [
    "**Ans:** `with`/`as` argument simplifies use of file handling in python. When we use a `with` statement for file reading, there is no need for programmer to explicitly takecare of activities like resource deallocation and file closing by using file.close() method. `with` statement itself ensures proper acquisition and release of resources. this avoids triggering of exceptions if file closing is unknowingly forgotten in the code execution."
   ]
  }
 ],
 "metadata": {
  "kernelspec": {
   "display_name": "Python 3",
   "language": "python",
   "name": "python3"
  },
  "language_info": {
   "codemirror_mode": {
    "name": "ipython",
    "version": 3
   },
   "file_extension": ".py",
   "mimetype": "text/x-python",
   "name": "python",
   "nbconvert_exporter": "python",
   "pygments_lexer": "ipython3",
   "version": "3.11.0 (main, Oct 24 2022, 18:26:48) [MSC v.1933 64 bit (AMD64)]"
  },
  "vscode": {
   "interpreter": {
    "hash": "0ce04f76c7467da7eecc8b82ab5f2c80c83e62f7b0e3d6895d4c669363670452"
   }
  }
 },
 "nbformat": 4,
 "nbformat_minor": 5
}
