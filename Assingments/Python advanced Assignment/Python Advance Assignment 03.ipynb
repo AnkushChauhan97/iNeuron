{
 "cells": [
  {
   "attachments": {},
   "cell_type": "markdown",
   "id": "6d38e68b",
   "metadata": {},
   "source": [
    "**Q1.** What is the concept of an abstract superclass?"
   ]
  },
  {
   "attachments": {},
   "cell_type": "markdown",
   "id": "aa641eae",
   "metadata": {},
   "source": [
    "**Ans:** A Superclass can be considered as a blueprint for other classes. It allows you to create a set of methods that must be created within any child classes built from the paarent class. A class which contains one or more abstract methods is called an abstract class."
   ]
  },
  {
   "cell_type": "code",
   "execution_count": 2,
   "id": "00e14ca4",
   "metadata": {},
   "outputs": [],
   "source": [
    "from abc import ABC, abstractmethod\n",
    "class Polygon(ABC): # Abstract Class\n",
    "    @abstractmethod\n",
    "    def noofsides(self): # Abstract Method\n",
    "        pass\n",
    "class Triangle(Polygon):\n",
    "    def noofsides(self):  # overriding abstract method in child class Triangle\n",
    "        print(\"I have 3 sides\")\n",
    "class Pentagon(Polygon):\n",
    "    def noofsides(self): # overriding abstract method in child class Pentagon\n",
    "        print(\"I have 5 sides\")"
   ]
  },
  {
   "attachments": {},
   "cell_type": "markdown",
   "id": "e4a49a25",
   "metadata": {},
   "source": [
    "**Q2.** What happens when a class statement's top level contains a basic assignment statement?\n",
    "**Ans:** When a Class statement's top level contains a basic assignment statement, its usually treated as a class attribute or class level variable. Where as assignment statements inside methods are treated as instance attributes or local attributes."
   ]
  },
  {
   "cell_type": "code",
   "execution_count": 3,
   "id": "c5d88b4d",
   "metadata": {},
   "outputs": [],
   "source": [
    "class Person:\n",
    "    species = 'Homesapiens' # class attribute\n",
    "    def __init__(self,name,gender):\n",
    "        self.name = name # instance attributes\n",
    "        self.gender = gender"
   ]
  },
  {
   "attachments": {},
   "cell_type": "markdown",
   "id": "beb231b3",
   "metadata": {},
   "source": [
    "**Q3.** Why does a class need to manually call a superclass's __init__ method?"
   ]
  },
  {
   "attachments": {},
   "cell_type": "markdown",
   "id": "e7e2a89c",
   "metadata": {},
   "source": [
    "**Ans:** if a child class has `__init__` method, then it will not inherit the `__init__` method of the parent class. in other words the `__init__` method of the child class overrides the `__init__` method of the parent class. so we have to manually call a parent superclass's `__init__` using `super()` method"
   ]
  },
  {
   "cell_type": "code",
   "execution_count": 4,
   "id": "d30162f0",
   "metadata": {},
   "outputs": [],
   "source": [
    "#Example\n",
    "\n",
    "class Person:\n",
    "    def __init__(self,name,age):\n",
    "        self.name = name\n",
    "        self.age = age       \n",
    "class Employee(Person):\n",
    "    def __init__(self,name,age,salary):\n",
    "        super().__init__(name,age)\n",
    "        self.salary = salary"
   ]
  },
  {
   "attachments": {},
   "cell_type": "markdown",
   "id": "f7468111",
   "metadata": {},
   "source": [
    "**Q4.** How can you augment, instead of completely replacing, an inherited method?"
   ]
  },
  {
   "attachments": {},
   "cell_type": "markdown",
   "id": "6b19dc4b",
   "metadata": {},
   "source": [
    "**Ans:** `super()` method can be used to augment, instead of completely replacing, an inherited method. As showsn in previous example."
   ]
  },
  {
   "attachments": {},
   "cell_type": "markdown",
   "id": "16559793",
   "metadata": {},
   "source": [
    "**Q5.** How is the local scope of a class different from that of a function?"
   ]
  },
  {
   "attachments": {},
   "cell_type": "markdown",
   "id": "499aac83",
   "metadata": {},
   "source": [
    "**Ans:** A Variable which is defined inside a function is local to that function. it is accesible from the point at which it is defined until the end of the function, and exists for as long as the function is existing.\n",
    "\n",
    "Similary a variable inside of a class also has a local variable scope. Variables which are defined in the class body outside all methods are called as class level variables or class attributes. they can be referenced by there bare names within the same scope, but they can also be accessed from outside this scope if we use the attribute access operator `(.)`. on a class or an instance of the class."
   ]
  },
  {
   "cell_type": "code",
   "execution_count": 9,
   "id": "1d9896b9",
   "metadata": {},
   "outputs": [
    {
     "name": "stdout",
     "output_type": "stream",
     "text": [
      "Ankush Chuahan\n",
      "Name varible is not accessable outside hello function scope\n",
      "HomeSapines\n",
      "HomeSapines\n"
     ]
    }
   ],
   "source": [
    "def hello():\n",
    "    name = \"Ankush Chuahan\"\n",
    "    print(name)\n",
    "hello()\n",
    "try:\n",
    "    name\n",
    "except NameError:\n",
    "    print('Name varible is not accessable outside hello function scope')\n",
    "\n",
    "class Person:\n",
    "    species = \"HomeSapines\"\n",
    "    def __init__(self):\n",
    "        pass\n",
    "print(Person.species) # Accessing species using class name\n",
    "Male = Person()\n",
    "print(Male.species) # Accessing species using instance of class"
   ]
  }
 ],
 "metadata": {
  "kernelspec": {
   "display_name": "Python 3",
   "language": "python",
   "name": "python3"
  },
  "language_info": {
   "codemirror_mode": {
    "name": "ipython",
    "version": 3
   },
   "file_extension": ".py",
   "mimetype": "text/x-python",
   "name": "python",
   "nbconvert_exporter": "python",
   "pygments_lexer": "ipython3",
   "version": "3.11.0 (main, Oct 24 2022, 18:26:48) [MSC v.1933 64 bit (AMD64)]"
  },
  "vscode": {
   "interpreter": {
    "hash": "0ce04f76c7467da7eecc8b82ab5f2c80c83e62f7b0e3d6895d4c669363670452"
   }
  }
 },
 "nbformat": 4,
 "nbformat_minor": 5
}
