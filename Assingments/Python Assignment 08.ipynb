{
 "cells": [
  {
   "attachments": {},
   "cell_type": "markdown",
   "id": "215594ca",
   "metadata": {},
   "source": [
    "**Q1.** Is the Python Standard Library included with PyInputPlus?"
   ]
  },
  {
   "attachments": {},
   "cell_type": "markdown",
   "id": "063ac183",
   "metadata": {},
   "source": [
    "**Ans:** No, `PyInputPlus` is not a part of Python Standard Library, it needs to be installed explicitly using the command `!pip install PyInputPlus`"
   ]
  },
  {
   "attachments": {},
   "cell_type": "markdown",
   "id": "76a769e0",
   "metadata": {},
   "source": [
    "**Q2.** Why is PyInputPlus commonly imported with import pyinputplus as pypi?"
   ]
  },
  {
   "attachments": {},
   "cell_type": "markdown",
   "id": "b42a8080",
   "metadata": {},
   "source": [
    "**Ans:** You can import the module with `import pyinputplus as pyip` so that you can enter a shorter name when calling the module's functions."
   ]
  },
  {
   "attachments": {},
   "cell_type": "markdown",
   "id": "5d578dfb",
   "metadata": {},
   "source": [
    "**Q3.** How do you distinguish between inputInt() and inputFloat()?"
   ]
  },
  {
   "attachments": {},
   "cell_type": "markdown",
   "id": "40d33674",
   "metadata": {},
   "source": [
    "**Ans:** `inputInt()` function Accepts an integer value. This also takes additional parameters `min`, `max`, `greaterThan` and `lessThan` for bounds. And it always returns an int.\n",
    "\n",
    "Whereas `inputFloat()` function Accepts a floating-point numeric value. this also takes additional `min`, `max`, `greaterThan` and `lessThan` parameters. and always returns a float."
   ]
  },
  {
   "attachments": {},
   "cell_type": "markdown",
   "id": "5a276409",
   "metadata": {},
   "source": [
    "**Q4.** Using PyInputPlus, how do you ensure that the user enters a whole number between 0 and 99? "
   ]
  },
  {
   "attachments": {},
   "cell_type": "markdown",
   "id": "fcfdb88f",
   "metadata": {},
   "source": [
    "**Ans:** `PyInputPlus` module provides a function called as `inputInt()` which only returns only integer values. inorder to restrict the input between 0 and 99, i'ii use parameters like `min` & `max` to ensure that user enters the values between the defined range only.\n",
    "\n",
    "`import pyinputplus as pyip`  \n",
    "`wholenumber = pyip.inputInt(prompt='Enter a number: ', min=0, max=100)`   \n",
    "`print(wholenumber)` "
   ]
  },
  {
   "attachments": {},
   "cell_type": "markdown",
   "id": "a3266159",
   "metadata": {},
   "source": [
    "**Q5.** What is transferred to the keyword arguments allowRegexes and blockRegexes?"
   ]
  },
  {
   "attachments": {},
   "cell_type": "markdown",
   "id": "c3b004d7",
   "metadata": {},
   "source": [
    "**Ans:** we can use `allowRegexes` and `blockRegexes` keyword arguments to take list of regular expression strings to determine\n",
    "what the pyinputplus function will reject or accept valid input."
   ]
  },
  {
   "attachments": {},
   "cell_type": "markdown",
   "id": "20251b09",
   "metadata": {},
   "source": [
    "**Q6.** If a blank input is entered three times, what does inputStr(limit=3) do?"
   ]
  },
  {
   "attachments": {},
   "cell_type": "markdown",
   "id": "4e8b7e31",
   "metadata": {},
   "source": [
    "**Ans:** The statement `inputStr(limit=3)` will throw two exceptions `ValidationException` and `RetryLimitException`. The first exception is thrown because blank values are not allowed by inputStr() function by default. it we want to consider blank values as valid input, we have to set `blank=True`.\n",
    "\n",
    "The second exception is occured because we have reached the max limit we have specified by using `limit` parameter. inorder to avoid this exception we can use `default` parameter to return a default value when max limit is reached."
   ]
  },
  {
   "attachments": {},
   "cell_type": "markdown",
   "id": "a57b26ea",
   "metadata": {},
   "source": [
    "**Q7.** If blank input is entered three times, what does inputStr(limit=3, default='hello') do?"
   ]
  },
  {
   "attachments": {},
   "cell_type": "markdown",
   "id": "ca08d239",
   "metadata": {},
   "source": [
    "**Ans:** Since the default parameter is set to `hello`. after blank input is entered three times instead of raising `RetryLimitException` exception. the function will return `hello` as response to the calling function"
   ]
  }
 ],
 "metadata": {
  "kernelspec": {
   "display_name": "Python 3",
   "language": "python",
   "name": "python3"
  },
  "language_info": {
   "codemirror_mode": {
    "name": "ipython",
    "version": 3
   },
   "file_extension": ".py",
   "mimetype": "text/x-python",
   "name": "python",
   "nbconvert_exporter": "python",
   "pygments_lexer": "ipython3",
   "version": "3.11.0 (main, Oct 24 2022, 18:26:48) [MSC v.1933 64 bit (AMD64)]"
  },
  "vscode": {
   "interpreter": {
    "hash": "0ce04f76c7467da7eecc8b82ab5f2c80c83e62f7b0e3d6895d4c669363670452"
   }
  }
 },
 "nbformat": 4,
 "nbformat_minor": 5
}
