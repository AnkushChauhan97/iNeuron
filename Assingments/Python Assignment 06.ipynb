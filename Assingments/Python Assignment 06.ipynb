{
 "cells": [
  {
   "cell_type": "markdown",
   "metadata": {},
   "source": [
    "**Q1.** What are escape characters, and how do you use them?\n",
    "\n",
    "**Ans** Escape charecters are those characters which are not displayed after used in strings. These charecters starts with a `\\` and the character after the backslash will not be printed. There characters are used to format the printed out come. For examples, `\\n` is used to break the line. "
   ]
  },
  {
   "cell_type": "markdown",
   "metadata": {},
   "source": [
    "**Q2.** What do the escape characters n and t stand for?\n",
    "\n",
    "**Ans** The `\\n` will break the line & `\\t` is used to insert a tab spacing. Below is example:"
   ]
  },
  {
   "cell_type": "code",
   "execution_count": 48,
   "metadata": {},
   "outputs": [
    {
     "name": "stdout",
     "output_type": "stream",
     "text": [
      "\t This is an example of escape characters. \n",
      " The n & t characters.\n"
     ]
    }
   ],
   "source": [
    "print('\\t This is an example of escape characters. \\n The n & t characters.')"
   ]
  },
  {
   "cell_type": "markdown",
   "metadata": {},
   "source": [
    "**Q3.** What is the way to include backslash characters in a string?\n",
    "\n",
    "**Ans.** To include / in a string, we use double backslash `\\\\`."
   ]
  },
  {
   "cell_type": "code",
   "execution_count": 49,
   "metadata": {},
   "outputs": [
    {
     "name": "stdout",
     "output_type": "stream",
     "text": [
      "This is how you can print \\ in string.\n"
     ]
    }
   ],
   "source": [
    "print('This is how you can print \\\\ in string.')"
   ]
  },
  {
   "cell_type": "markdown",
   "metadata": {},
   "source": [
    "**Q4.** The string \"Howl's Moving Castle\" is a correct value. Why isn't the single quote character in the\n",
    "word Howl's not escaped a problem?\n",
    "\n",
    "**Asns.** The reason why Howl's `'` is not escaped is because the string is closed by `\"`."
   ]
  },
  {
   "cell_type": "code",
   "execution_count": 50,
   "metadata": {},
   "outputs": [
    {
     "name": "stdout",
     "output_type": "stream",
     "text": [
      "Howl's Moving Castle\n"
     ]
    }
   ],
   "source": [
    "print(\"Howl's Moving Castle\")"
   ]
  },
  {
   "cell_type": "markdown",
   "metadata": {},
   "source": [
    "**Q5.** How do you write a string of newlines if you don't want to use the n character?\n",
    "\n",
    "**Ans.**  Instead of using `\\n` we can also use `\\r`. `\\r` will shift the cusrer to the beginning of new line. "
   ]
  },
  {
   "cell_type": "markdown",
   "metadata": {},
   "source": [
    "**Q6.** What are the values of the given expressions?\n",
    "1. 'Hello, world!'[1]\n",
    "2. 'Hello, world!'[0:5]\n",
    "3. 'Hello, world!'[:5]\n",
    "4. 'Hello, world!'[3:]\n",
    "\n",
    "**Ans.** \n",
    "1. The  `[1]` will return the second character in the string i.e. `e`.\n",
    "2. The `[0:5]` will return first five characters i.e. 'Hello' because it will start from 0th charater go till 4th.\n",
    "3. The `[:5]` wull return the same output as `[0:5]` because if we don't give any starting point it will start from 0th character by default.\n",
    "4. In `[3:]` we assinged the starting point as the 3rd character but did not set number of characters we want. Therefore, it will start printing from 3rd character till the end of the string."
   ]
  },
  {
   "cell_type": "code",
   "execution_count": 51,
   "metadata": {},
   "outputs": [
    {
     "name": "stdout",
     "output_type": "stream",
     "text": [
      "e\n",
      "Hello\n",
      "Hello\n",
      "lo, world!\n"
     ]
    }
   ],
   "source": [
    "print('Hello, world!'[1])\n",
    "print('Hello, world!'[0:5])\n",
    "print('Hello, world!'[:5])\n",
    "print('Hello, world!'[3:])"
   ]
  },
  {
   "cell_type": "markdown",
   "metadata": {},
   "source": [
    "**Q7.** What are the values of the following expressions?\n",
    "1. 'Hello'.upper()\n",
    "2. 'Hello'.upper().isupper()\n",
    "3. 'Hello'.upper().lower()\n",
    "\n",
    "**Ans** \n",
    "1. `upper()` method will convert the srting letters into uppercase letter.\n",
    "2. `isupper()` will check whether the characters are capital or not & return `True` if the characters are capital `False` is they are small. When used with `upper()` it will return `True`.\n",
    "3. `lower()` will convert letters into small. When used after `upper()` it will overwrite the changes made by `upper()`."
   ]
  },
  {
   "cell_type": "code",
   "execution_count": 52,
   "metadata": {},
   "outputs": [
    {
     "name": "stdout",
     "output_type": "stream",
     "text": [
      "HELLO\n",
      "True\n",
      "hello\n"
     ]
    }
   ],
   "source": [
    "print('Hello'.upper())\n",
    "print('Hello'.upper().isupper())\n",
    "print('Hello'.upper().lower())"
   ]
  },
  {
   "cell_type": "markdown",
   "metadata": {},
   "source": [
    "**Q8.** What are the values of the following expressions?\n",
    "1. 'Remember, remember, the fifth of July.'.split()\n",
    "2. '-'.join('There can only one.'.split())\n",
    "\n",
    "**Ans.** \n",
    "1. First expression will split the string and return every word saprataly on the bases of spaces in a list form.\n",
    "2. Second expression is also spilted like the first one, but it will seprate each item of the list with `-`."
   ]
  },
  {
   "cell_type": "code",
   "execution_count": 53,
   "metadata": {},
   "outputs": [
    {
     "data": {
      "text/plain": [
       "['Remember,', 'remember,', 'the', 'fifth', 'of', 'July.']"
      ]
     },
     "execution_count": 53,
     "metadata": {},
     "output_type": "execute_result"
    }
   ],
   "source": [
    "'Remember, remember, the fifth of July.'.split()"
   ]
  },
  {
   "cell_type": "code",
   "execution_count": 54,
   "metadata": {},
   "outputs": [
    {
     "data": {
      "text/plain": [
       "'There-can-only-one.'"
      ]
     },
     "execution_count": 54,
     "metadata": {},
     "output_type": "execute_result"
    }
   ],
   "source": [
    "'-'.join('There can only one.'.split())"
   ]
  },
  {
   "cell_type": "markdown",
   "metadata": {},
   "source": [
    "**Q9.** What are the methods for right-justifying, left-justifying, and centering a string?\n",
    "\n",
    "**Ans.** "
   ]
  },
  {
   "cell_type": "code",
   "execution_count": 56,
   "metadata": {},
   "outputs": [
    {
     "name": "stdout",
     "output_type": "stream",
     "text": [
      "-----------------------------These are justificationexamples\n",
      "These are justificationexamples-----------------------------\n",
      "--------------These are justificationexamples---------------\n"
     ]
    }
   ],
   "source": [
    "eg=  'These are justificationexamples'\n",
    "\n",
    "print(eg.rjust(60,'-'))\n",
    "print(eg.ljust(60,'-'))\n",
    "print(eg.center(60,'-'))"
   ]
  },
  {
   "cell_type": "markdown",
   "metadata": {},
   "source": [
    "**Q10.** What is the best way to remove whitespace characters from the start or end?\n",
    "\n",
    "**Ans.** To remove whitespace characters from a string we can use `strip` method."
   ]
  }
 ],
 "metadata": {
  "kernelspec": {
   "display_name": "Python 3.10.7 64-bit",
   "language": "python",
   "name": "python3"
  },
  "language_info": {
   "codemirror_mode": {
    "name": "ipython",
    "version": 3
   },
   "file_extension": ".py",
   "mimetype": "text/x-python",
   "name": "python",
   "nbconvert_exporter": "python",
   "pygments_lexer": "ipython3",
   "version": "3.10.7"
  },
  "orig_nbformat": 4,
  "vscode": {
   "interpreter": {
    "hash": "bdd191ab3bf8888fbde80324a57563ef772a70b8b291ec3348fb33c64c8ad8a3"
   }
  }
 },
 "nbformat": 4,
 "nbformat_minor": 2
}
