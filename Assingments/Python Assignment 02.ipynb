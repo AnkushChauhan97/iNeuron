{
 "cells": [
  {
   "cell_type": "markdown",
   "metadata": {},
   "source": [
    "1. What are the two values of the Boolean data type? How do you write them?\n",
    "\n",
    "Ans: The two values of Boolean data types are True & False. \n",
    "     for True: bool(1)\n",
    "     for False: bool(0)"
   ]
  },
  {
   "cell_type": "markdown",
   "metadata": {},
   "source": [
    "2. What are the three different types of Boolean operators?\n",
    "\n",
    "Ans: and, or, =="
   ]
  },
  {
   "cell_type": "markdown",
   "metadata": {},
   "source": [
    "3. Make a list of each Boolean operator's truth tables (i.e. every possible combination of Boolean values for the operator and what it evaluate ).\n",
    "\n",
    "Ans: True and True= True\n",
    "     False and True= False\n",
    "     True and False= False\n",
    "     False and False= False\n",
    "     True or True= True\n",
    "     False or True= True\n",
    "     True or False= True\n",
    "     False or False= False\n",
    "     not True= False\n",
    "     not False= True\n"
   ]
  },
  {
   "cell_type": "markdown",
   "metadata": {},
   "source": [
    "4. What are the values of the following expressions?\n",
    "(5 > 4) and (3 == 5)\n",
    "not (5 > 4)\n",
    "(5 > 4) or (3 == 5)\n",
    "not ((5 > 4) or (3 == 5))\n",
    "(True and True) and (True == False)\n",
    "(not False) or (not True)\n",
    "\n",
    "Ans: (5 > 4) and (3 == 5): False\n",
    "     not (5 > 4): False\n",
    "     (5 > 4) or (3 == 5): True\n",
    "     not ((5 > 4) or (3 == 5)): False\n",
    "     (True and True) and (True == False): False\n",
    "     (not False) or (not True): True\n"
   ]
  },
  {
   "cell_type": "markdown",
   "metadata": {},
   "source": [
    "5. What are the six comparison operators?\n",
    "\n",
    "Ans: >\n",
    "     <\n",
    "     >=\n",
    "     <=\n",
    "     ==\n",
    "     !="
   ]
  },
  {
   "cell_type": "markdown",
   "metadata": {},
   "source": [
    "6. How do you tell the difference between the equal to and assignment operators? Describe a condition and when you would use one.\n",
    "\n",
    "Ans: Equal operator is for comperision and written as ==, whereas assignment operator is used to assign value and denoted with one equal symbol =.\n",
    "     E.g.: v == 5 (here we are checking if the value of variable v is equal to 5).\n",
    "           v = 5 (here we are assinging 5 to variable v)"
   ]
  },
  {
   "cell_type": "markdown",
   "metadata": {},
   "source": [
    "7. Identify the three blocks in this code:\n",
    "spam = 0\n",
    "if spam == 10:\n",
    "print('eggs')\n",
    "if spam > 5:\n",
    "print('bacon')\n",
    "else:\n",
    "print('ham')\n",
    "print('spam')\n",
    "print('spam') \n",
    "\n",
    "Ans: Block 1: print('eggs')\n",
    "     Block 2: print('bacon')\n",
    "     Block 3: print('ham')\n",
    "              print('spam')\n",
    "              print('spam')"
   ]
  },
  {
   "cell_type": "markdown",
   "metadata": {},
   "source": [
    "8. Write code that prints Hello if 1 is stored in spam, prints Howdy if 2 is stored in spam, and prints Greetings! if anything else is stored in spam.\n",
    "\n",
    "Ans: spam = input()\n",
    "     if spam == '1':\n",
    "        print(\"Hello\")\n",
    "     elif spam == '2':\n",
    "        print(\"Howdy\")\n",
    "     else:\n",
    "        print(\"Greetings\")"
   ]
  },
  {
   "cell_type": "markdown",
   "metadata": {},
   "source": [
    "9. If your programme is stuck in an endless loop, what keys you’ll press?\n",
    "\n",
    "Ans: I'll press ctrl+c"
   ]
  },
  {
   "cell_type": "markdown",
   "metadata": {},
   "source": [
    "10. How can you tell the difference between break and continue?\n",
    "\n",
    "Ans: break command is use to break the loop and come out of it. On the other hand continue command stop the current itteration and restart from beginning of the code."
   ]
  },
  {
   "cell_type": "markdown",
   "metadata": {},
   "source": [
    "11. In a for loop, what is the difference between range(10), range(0, 10), and range(0, 10, 1)?\n",
    "\n",
    "Ans: there is no differance between range(10), range(0, 10), and range(0, 10, 1). In each case the for loop will iterate 10 times."
   ]
  },
  {
   "cell_type": "markdown",
   "metadata": {},
   "source": [
    "12. Write a short program that prints the numbers 1 to 10 using a for loop. Then write an equivalent program that prints the numbers 1 to 10 using a while loop.\n",
    "\n",
    "Ans: for i in range(1,11):\n",
    "        print(i)\n",
    "     i=1\n",
    "\n",
    "     while i<=10:\n",
    "        print(i)\n",
    "        i=i+1"
   ]
  },
  {
   "cell_type": "markdown",
   "metadata": {},
   "source": [
    "13. If you had a function named bacon() inside a module named spam, how would you call it after importing spam?\n",
    "\n",
    "Ans: import spam()\n",
    "     spam.bacon()"
   ]
  }
 ],
 "metadata": {
  "kernelspec": {
   "display_name": "Python 3.10.7 64-bit",
   "language": "python",
   "name": "python3"
  },
  "language_info": {
   "codemirror_mode": {
    "name": "ipython",
    "version": 3
   },
   "file_extension": ".py",
   "mimetype": "text/x-python",
   "name": "python",
   "nbconvert_exporter": "python",
   "pygments_lexer": "ipython3",
   "version": "3.10.7"
  },
  "orig_nbformat": 4,
  "vscode": {
   "interpreter": {
    "hash": "bdd191ab3bf8888fbde80324a57563ef772a70b8b291ec3348fb33c64c8ad8a3"
   }
  }
 },
 "nbformat": 4,
 "nbformat_minor": 2
}
